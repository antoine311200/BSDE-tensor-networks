{
 "cells": [
  {
   "cell_type": "code",
   "execution_count": 1,
   "metadata": {},
   "outputs": [],
   "source": [
    "%load_ext autoreload\n",
    "%autoreload 2"
   ]
  },
  {
   "cell_type": "code",
   "execution_count": 2,
   "metadata": {},
   "outputs": [],
   "source": [
    "from bsde_solver.tensor.tensor_train import TensorTrain, left_unfold, right_unfold\n",
    "from bsde_solver.tensor.tensor_core import TensorCore\n",
    "from bsde_solver.tensor.tensor_network import TensorNetwork\n",
    "\n",
    "import numpy as np\n",
    "\n",
    "np.set_printoptions(precision=2)\n",
    "np.set_printoptions(suppress=True)\n"
   ]
  },
  {
   "cell_type": "code",
   "execution_count": 3,
   "metadata": {},
   "outputs": [],
   "source": [
    "tt = TensorTrain(shape=[4, 4, 4, 4], ranks=[1, 3, 3, 3, 1])\n",
    "tt.randomize()"
   ]
  },
  {
   "cell_type": "markdown",
   "metadata": {},
   "source": [
    "Implementation of several functions and algorithms with tensor train decomposition using the following random tensor train (matrix product state):\n",
    "\n",
    "<center><img src=\"./images/test_tt.png\" style=\"width: 40%\"/></center>"
   ]
  },
  {
   "cell_type": "code",
   "execution_count": 4,
   "metadata": {},
   "outputs": [
    {
     "data": {
      "text/plain": [
       "TensorNetwork(\n",
       "    core_0: TensorCore(r_0 {1}, m_1 {4}, r_1 {3}),\n",
       "    core_1: TensorCore(r_1 {3}, m_2 {4}, r_2 {3}),\n",
       "    core_2: TensorCore(r_2 {3}, m_3 {4}, r_3 {3}),\n",
       "    core_3: TensorCore(r_3 {3}, m_4 {4}, r_4 {1})\n",
       ")"
      ]
     },
     "execution_count": 4,
     "metadata": {},
     "output_type": "execute_result"
    }
   ],
   "source": [
    "tt"
   ]
  },
  {
   "cell_type": "markdown",
   "metadata": {},
   "source": [
    "### Left and Right unfoldings\n",
    "\n",
    "Left unfolding:\n",
    "<center><img src=\"./images/left_unfold.png\" style=\"width: 40%\"/></center>\n",
    "\n",
    "Right unfolding:\n",
    "<center><img src=\"./images/right_unfold.png\" style=\"width: 40%\"/></center>"
   ]
  },
  {
   "cell_type": "code",
   "execution_count": 5,
   "metadata": {},
   "outputs": [
    {
     "name": "stdout",
     "output_type": "stream",
     "text": [
      "core_1: TensorCore(r_1 {3}, m_2+r_2 {12})\n",
      "core_1: TensorCore(r_1+m_2 {12}, r_2 {3})\n"
     ]
    }
   ],
   "source": [
    "R = right_unfold(tt[1])\n",
    "L = left_unfold(tt[1])\n",
    "\n",
    "print(R)\n",
    "print(L)"
   ]
  },
  {
   "cell_type": "markdown",
   "metadata": {},
   "source": [
    "### Left and Right orthogonalizations\n",
    "\n",
    "\n",
    "Left orthogonalization:\n",
    "<center><img src=\"./images/tt_left_ortho.png\" style=\"width: 40%\"/></center>\n",
    "\n",
    "Right orthogonalization:\n",
    "<center><img src=\"./images/tt_right_ortho.png\" style=\"width: 40%\"/></center>\n"
   ]
  },
  {
   "cell_type": "code",
   "execution_count": 6,
   "metadata": {},
   "outputs": [],
   "source": [
    "tt1 = tt.copy()\n",
    "tt2 = tt.copy()"
   ]
  },
  {
   "cell_type": "code",
   "execution_count": 7,
   "metadata": {},
   "outputs": [
    {
     "data": {
      "text/plain": [
       "(array([[[ 0.44,  0.92, -0.93],\n",
       "         [-0.1 , -0.79, -0.74],\n",
       "         [-0.45, -0.29, -0.9 ],\n",
       "         [-0.7 , -0.34,  0.22]]]),\n",
       " array([[[ 0.44,  0.92, -0.93],\n",
       "         [-0.1 , -0.79, -0.74],\n",
       "         [-0.45, -0.29, -0.9 ],\n",
       "         [-0.7 , -0.34,  0.22]]]),\n",
       " array([[[ 0.44,  0.92, -0.93],\n",
       "         [-0.1 , -0.79, -0.74],\n",
       "         [-0.45, -0.29, -0.9 ],\n",
       "         [-0.7 , -0.34,  0.22]]]))"
      ]
     },
     "execution_count": 7,
     "metadata": {},
     "output_type": "execute_result"
    }
   ],
   "source": [
    "tt[0].view(np.ndarray), tt1[0].view(np.ndarray), tt2[0].view(np.ndarray)"
   ]
  },
  {
   "cell_type": "code",
   "execution_count": 8,
   "metadata": {},
   "outputs": [],
   "source": [
    "tt1.orthonormalize(mode=\"left\")"
   ]
  },
  {
   "cell_type": "markdown",
   "metadata": {},
   "source": [
    "<center><img src=\"./images/tt_left_ortho_id.png\" style=\"width: 30%\"/></center>"
   ]
  },
  {
   "cell_type": "code",
   "execution_count": 9,
   "metadata": {},
   "outputs": [
    {
     "data": {
      "text/plain": [
       "array([[ 1., -0., -0.],\n",
       "       [-0.,  1.,  0.],\n",
       "       [-0.,  0.,  1.]])"
      ]
     },
     "execution_count": 9,
     "metadata": {},
     "output_type": "execute_result"
    }
   ],
   "source": [
    "L = left_unfold(tt1[1]).view(np.ndarray)\n",
    "L.T @ L"
   ]
  },
  {
   "cell_type": "code",
   "execution_count": 10,
   "metadata": {},
   "outputs": [],
   "source": [
    "tt2.orthonormalize(mode=\"right\")"
   ]
  },
  {
   "cell_type": "markdown",
   "metadata": {},
   "source": [
    "<center><img src=\"./images/tt_right_ortho_id.png\" style=\"width: 30%\"/></center>"
   ]
  },
  {
   "cell_type": "code",
   "execution_count": 11,
   "metadata": {},
   "outputs": [
    {
     "data": {
      "text/plain": [
       "array([[1., 0., 0.],\n",
       "       [0., 1., 0.],\n",
       "       [0., 0., 1.]])"
      ]
     },
     "execution_count": 11,
     "metadata": {},
     "output_type": "execute_result"
    }
   ],
   "source": [
    "R = right_unfold(tt2[3]).view(np.ndarray)\n",
    "R @ R.T"
   ]
  },
  {
   "cell_type": "markdown",
   "metadata": {},
   "source": [
    "### Left & Right part of the tensor train\n",
    "\n",
    "Left part :\n",
    "<center><img src=\"./images/left_contract.png\" style=\"width: 50%\"/></center>\n",
    "Right part :\n",
    "<center><img src=\"./images/right_contract.png\" style=\"width: 50%\"/></center>\n",
    "\n",
    "Then, we can write the tensor train as:\n",
    "\n",
    "<center><img src=\"./images/left_right_repr.png\" style=\"width: 80%\"/></center>\n"
   ]
  },
  {
   "cell_type": "markdown",
   "metadata": {},
   "source": [
    "## Alternating Least Squares (ALS) algorithm"
   ]
  },
  {
   "cell_type": "code",
   "execution_count": 12,
   "metadata": {},
   "outputs": [],
   "source": [
    "from opt_einsum import contract\n",
    "\n",
    "def retraction_operator(tt, i):\n",
    "    operator = tt.extract([f'core_{j}' for j in range(tt.order) if j != i])\n",
    "    return operator"
   ]
  },
  {
   "cell_type": "code",
   "execution_count": 13,
   "metadata": {},
   "outputs": [
    {
     "name": "stdout",
     "output_type": "stream",
     "text": [
      "TensorNetwork(\n",
      "    core_0: TensorCore(r_0 {1}, m_1 {4}, r_1 {3}),\n",
      "    core_1: TensorCore(r_1 {3}, m_2 {4}, r_2 {3}),\n",
      "    core_2: TensorCore(r_2 {3}, m_3 {4}, r_3 {3}),\n",
      "    core_3: TensorCore(r_3 {3}, m_4 {4}, r_4 {1})\n",
      ")\n",
      "\n",
      "Rectraction operator (1st):\n",
      "TensorNetwork(\n",
      "    core_1: TensorCore(r_1 {3}, m_2 {4}, r_2 {3}),\n",
      "    core_2: TensorCore(r_2 {3}, m_3 {4}, r_3 {3}),\n",
      "    core_3: TensorCore(r_3 {3}, m_4 {4}, r_4 {1})\n",
      ")\n",
      "TensorCore(r_1 {3}, m_2 {4}, m_3 {4}, m_4 {4}, r_4 {1})\n"
     ]
    }
   ],
   "source": [
    "tt3 = tt.copy()\n",
    "tt3.orthonormalize(mode=\"right\")\n",
    "\n",
    "print(tt3)\n",
    "\n",
    "P1 = retraction_operator(tt3, 0)\n",
    "print(\"\\nRectraction operator (1st):\")\n",
    "print(P1)\n",
    "print(P1.contract())"
   ]
  },
  {
   "cell_type": "code",
   "execution_count": 14,
   "metadata": {},
   "outputs": [
    {
     "name": "stdout",
     "output_type": "stream",
     "text": [
      "\n",
      "Rectraction operator (2nd):\n",
      "TensorNetwork(\n",
      "    core_0: TensorCore(r_0 {1}, m_1 {4}, r_1 {3}),\n",
      "    core_2: TensorCore(r_2 {3}, m_3 {4}, r_3 {3}),\n",
      "    core_3: TensorCore(r_3 {3}, m_4 {4}, r_4 {1})\n",
      ")\n",
      "TensorCore(r_0 {1}, m_1 {4}, r_1 {3}, r_2 {3}, m_3 {4}, m_4 {4}, r_4 {1})\n"
     ]
    },
    {
     "data": {
      "text/plain": [
       "array([[ 1., -0., -0.,  0.,  0., -0.,  0.,  0.,  0.],\n",
       "       [-0.,  1.,  0., -0.,  0., -0.,  0.,  0., -0.],\n",
       "       [-0.,  0.,  1.,  0., -0.,  0.,  0., -0.,  0.],\n",
       "       [ 0., -0.,  0.,  1., -0.,  0.,  0., -0.,  0.],\n",
       "       [ 0.,  0., -0., -0.,  1.,  0., -0.,  0., -0.],\n",
       "       [-0., -0.,  0.,  0.,  0.,  1., -0.,  0., -0.],\n",
       "       [ 0.,  0.,  0.,  0., -0., -0.,  1., -0., -0.],\n",
       "       [ 0.,  0., -0., -0.,  0.,  0., -0.,  1.,  0.],\n",
       "       [ 0., -0.,  0.,  0., -0., -0., -0.,  0.,  1.]])"
      ]
     },
     "execution_count": 14,
     "metadata": {},
     "output_type": "execute_result"
    }
   ],
   "source": [
    "tt3.orthonormalize(mode=\"left\")\n",
    "tt3.orthonormalize(mode=\"right\", start=1)\n",
    "\n",
    "P2 = retraction_operator(tt3, 1)\n",
    "print(\"\\nRectraction operator (2nd):\")\n",
    "print(P2)\n",
    "print(P2.contract())\n",
    "\n",
    "P2_mat = P2.contract().unfold(('r_1', 'r_2'), -1).view(np.ndarray)\n",
    "(P2_mat @ P2_mat.T)"
   ]
  },
  {
   "cell_type": "code",
   "execution_count": 15,
   "metadata": {},
   "outputs": [
    {
     "name": "stdout",
     "output_type": "stream",
     "text": [
      "TensorCore(r_0 {1}, m_1 {4}, m_2 {4}, r_2 {3}, r_3 {3}, m_4 {4}, r_4 {1})\n"
     ]
    },
    {
     "data": {
      "text/plain": [
       "array([[ 1., -0.,  0.,  0.,  0., -0.,  0., -0., -0.],\n",
       "       [-0.,  1.,  0., -0.,  0.,  0., -0.,  0., -0.],\n",
       "       [ 0.,  0.,  1.,  0., -0., -0.,  0., -0.,  0.],\n",
       "       [ 0., -0.,  0.,  1., -0.,  0.,  0.,  0.,  0.],\n",
       "       [ 0.,  0., -0., -0.,  1.,  0., -0.,  0.,  0.],\n",
       "       [-0.,  0., -0.,  0.,  0.,  1.,  0., -0.,  0.],\n",
       "       [ 0., -0.,  0.,  0., -0.,  0.,  1., -0.,  0.],\n",
       "       [-0.,  0., -0.,  0.,  0., -0., -0.,  1.,  0.],\n",
       "       [-0., -0.,  0.,  0.,  0.,  0.,  0.,  0.,  1.]])"
      ]
     },
     "execution_count": 15,
     "metadata": {},
     "output_type": "execute_result"
    }
   ],
   "source": [
    "tt3.orthonormalize(mode=\"left\")\n",
    "tt3.orthonormalize(mode=\"right\", start=2)\n",
    "\n",
    "P3 = retraction_operator(tt3, 2)\n",
    "print(P3.contract())\n",
    "P3_mat = P3.contract().unfold(('r_2', 'r_3'), -1).view(np.ndarray)\n",
    "(P3_mat @ P3_mat.T)"
   ]
  },
  {
   "cell_type": "code",
   "execution_count": 16,
   "metadata": {},
   "outputs": [],
   "source": [
    "ttt = tt.copy()\n",
    "ttt.orthonormalize(mode=\"left\")"
   ]
  },
  {
   "cell_type": "markdown",
   "metadata": {},
   "source": [
    "#### Rename indices"
   ]
  },
  {
   "cell_type": "code",
   "execution_count": 49,
   "metadata": {},
   "outputs": [
    {
     "data": {
      "text/plain": [
       "(TensorNetwork(\n",
       "     core_0: TensorCore(r_0 {1}, m_1 {4}, r_1 {3}),\n",
       "     core_1: TensorCore(r_1 {3}, m_2 {4}, r_2 {3}),\n",
       "     core_2: TensorCore(r_2 {3}, m_3 {4}, r_3 {3}),\n",
       "     core_3: TensorCore(r_3 {3}, m_4 {4}, r_4 {1})\n",
       " ),\n",
       " TensorNetwork(\n",
       "     core_0: TensorCore(r_0 {1}, n_1 {4}, r_1 {3}),\n",
       "     core_1: TensorCore(r_1 {3}, n_2 {4}, r_2 {3}),\n",
       "     core_2: TensorCore(r_2 {3}, n_3 {4}, r_3 {3}),\n",
       "     core_3: TensorCore(r_3 {3}, n_4 {4}, r_4 {1})\n",
       " ))"
      ]
     },
     "execution_count": 49,
     "metadata": {},
     "output_type": "execute_result"
    }
   ],
   "source": [
    "tt4 = tt.copy()\n",
    "tt5 = tt4.rename(\"m_*\", \"n_*\", inplace=False)\n",
    "tt4, tt5"
   ]
  },
  {
   "cell_type": "markdown",
   "metadata": {},
   "source": [
    "#### Micro-optimization\n",
    "\n",
    "At each step of the ALS algorithm, we need to compute the following expression:\n",
    "\n",
    "$$P_i^T A P_i "
   ]
  },
  {
   "cell_type": "code",
   "execution_count": 114,
   "metadata": {},
   "outputs": [
    {
     "name": "stdout",
     "output_type": "stream",
     "text": [
      "TensorCore(m_1 {4}, m_2 {4}, m_3 {4}, t_0 {1}, t_3 {1})\n",
      "Elapsed time: 0.01300s\n"
     ]
    }
   ],
   "source": [
    "def ALS(A, b, n_iter=10, ranks=None):\n",
    "    tt = TensorTrain(b.shape, b.ranks if ranks is None else ranks)\n",
    "    tt.randomize()\n",
    "    tt.orthonormalize(mode=\"right\", start=1)\n",
    "\n",
    "    def get_idx(j):\n",
    "        if j == 0: indices = (b[j].indices[0], *tt[j].indices[1:])\n",
    "        elif j == tt.order-1: indices = (*tt[j].indices[:-1], b[j].indices[2])\n",
    "        else: indices = tt[j].indices\n",
    "        return indices\n",
    "\n",
    "    A1 = A.rename(\"m_*\", \"p_*\", inplace=False)\n",
    "    A2 = A.rename(\"n_*\", \"q_*\", inplace=False).rename(\"m_*\", \"p_*\", inplace=False)\n",
    "    c = b.copy().contract().rename(\"m_*\", \"q_*\", inplace=False)\n",
    "    T = TensorNetwork(cores=[A,A1,A2,c], names=['A','A1','A2','c']).contract()#indices=[f\"m_{i+1}\" for i in range(len(b.shape))])\n",
    "\n",
    "    print(T)\n",
    "\n",
    "    for i in range(n_iter):\n",
    "        # Left half sweep\n",
    "        for j in range(tt.order-1):\n",
    "            # Micro optimization\n",
    "            P = retraction_operator(tt, j)\n",
    "            V = P.contract(T, indices=get_idx(j))\n",
    "\n",
    "            core_curr = tt.cores[f\"core_{j}\"]\n",
    "            core_next = tt.cores[f\"core_{j+1}\"]\n",
    "\n",
    "            L = left_unfold(V).view(np.ndarray)\n",
    "            R = right_unfold(core_next).view(np.ndarray)\n",
    "\n",
    "            Q, S = np.linalg.qr(L)\n",
    "            W = S @ R\n",
    "\n",
    "            tt.cores[f\"core_{j}\"] = TensorCore.like(Q, core_curr)\n",
    "            tt.cores[f\"core_{j+1}\"] = TensorCore.like(W, core_next)\n",
    "\n",
    "        # Right half sweep\n",
    "        for j in range(tt.order-1, 0, -1):\n",
    "            # Micro optimization\n",
    "            P = retraction_operator(tt, j)\n",
    "            V = P.contract(T, indices=get_idx(j))\n",
    "\n",
    "            core_prev = tt.cores[f\"core_{j-1}\"]\n",
    "            core_curr = tt.cores[f\"core_{j}\"]\n",
    "\n",
    "            L = left_unfold(core_prev).view(np.ndarray)\n",
    "            R = right_unfold(V).view(np.ndarray)\n",
    "\n",
    "            Q, S = np.linalg.qr(R.T)\n",
    "            W = L @ S.T\n",
    "\n",
    "            tt.cores[f\"core_{j-1}\"] = TensorCore.like(W, core_prev)\n",
    "            tt.cores[f\"core_{j}\"] = TensorCore.like(Q.T, core_curr)\n",
    "\n",
    "    return tt\n",
    "\n",
    "\n",
    "# b = TensorTrain([4, 4, 4, 4, 4], [1, 3, 3, 3, 3, 1])\n",
    "b = TensorTrain([4, 4, 4], [1, 3, 3, 1])\n",
    "b.randomize()\n",
    "b.rename('r_*', 't_*')\n",
    "b.orthonormalize(mode=\"right\")\n",
    "\n",
    "A = TensorCore(np.random.randn(4, 4, 4, 4, 4, 4), ['n_1', 'n_2', 'n_3', 'm_1', 'm_2', 'm_3'])\n",
    "# print(b, A)\n",
    "\n",
    "import time\n",
    "\n",
    "start_time = time.time()\n",
    "x = ALS(A, b, n_iter=10)\n",
    "print(f\"Elapsed time: {(time.time() - start_time):.5f}s\")"
   ]
  },
  {
   "cell_type": "code",
   "execution_count": 80,
   "metadata": {},
   "outputs": [
    {
     "name": "stdout",
     "output_type": "stream",
     "text": [
      "(4, 4, 4, 4, 4, 4) (1, 4, 4, 4, 1)\n"
     ]
    },
    {
     "ename": "LinAlgError",
     "evalue": "Last 2 dimensions of the array must be square",
     "output_type": "error",
     "traceback": [
      "\u001b[1;31m---------------------------------------------------------------------------\u001b[0m",
      "\u001b[1;31mLinAlgError\u001b[0m                               Traceback (most recent call last)",
      "\u001b[1;32m~\\AppData\\Local\\Temp\\ipykernel_98576\\3339011999.py\u001b[0m in \u001b[0;36m<module>\u001b[1;34m\u001b[0m\n\u001b[0;32m      1\u001b[0m \u001b[0mprint\u001b[0m\u001b[1;33m(\u001b[0m\u001b[0mA\u001b[0m\u001b[1;33m.\u001b[0m\u001b[0mview\u001b[0m\u001b[1;33m(\u001b[0m\u001b[0mnp\u001b[0m\u001b[1;33m.\u001b[0m\u001b[0mndarray\u001b[0m\u001b[1;33m)\u001b[0m\u001b[1;33m.\u001b[0m\u001b[0mshape\u001b[0m\u001b[1;33m,\u001b[0m \u001b[0mb\u001b[0m\u001b[1;33m.\u001b[0m\u001b[0mcontract\u001b[0m\u001b[1;33m(\u001b[0m\u001b[1;33m)\u001b[0m\u001b[1;33m.\u001b[0m\u001b[0mview\u001b[0m\u001b[1;33m(\u001b[0m\u001b[0mnp\u001b[0m\u001b[1;33m.\u001b[0m\u001b[0mndarray\u001b[0m\u001b[1;33m)\u001b[0m\u001b[1;33m.\u001b[0m\u001b[0mshape\u001b[0m\u001b[1;33m)\u001b[0m\u001b[1;33m\u001b[0m\u001b[1;33m\u001b[0m\u001b[0m\n\u001b[1;32m----> 2\u001b[1;33m \u001b[0mc\u001b[0m \u001b[1;33m=\u001b[0m \u001b[0mnp\u001b[0m\u001b[1;33m.\u001b[0m\u001b[0mlinalg\u001b[0m\u001b[1;33m.\u001b[0m\u001b[0mtensorsolve\u001b[0m\u001b[1;33m(\u001b[0m\u001b[0mA\u001b[0m\u001b[1;33m.\u001b[0m\u001b[0mview\u001b[0m\u001b[1;33m(\u001b[0m\u001b[0mnp\u001b[0m\u001b[1;33m.\u001b[0m\u001b[0mndarray\u001b[0m\u001b[1;33m)\u001b[0m\u001b[1;33m,\u001b[0m \u001b[0mb\u001b[0m\u001b[1;33m.\u001b[0m\u001b[0mcontract\u001b[0m\u001b[1;33m(\u001b[0m\u001b[1;33m)\u001b[0m\u001b[1;33m.\u001b[0m\u001b[0mview\u001b[0m\u001b[1;33m(\u001b[0m\u001b[0mnp\u001b[0m\u001b[1;33m.\u001b[0m\u001b[0mndarray\u001b[0m\u001b[1;33m)\u001b[0m\u001b[1;33m)\u001b[0m\u001b[1;33m\u001b[0m\u001b[1;33m\u001b[0m\u001b[0m\n\u001b[0m",
      "\u001b[1;32m<__array_function__ internals>\u001b[0m in \u001b[0;36mtensorsolve\u001b[1;34m(*args, **kwargs)\u001b[0m\n",
      "\u001b[1;32mc:\\Users\\Antoine\\AppData\\Local\\Programs\\Python\\Python39\\lib\\site-packages\\numpy\\linalg\\linalg.py\u001b[0m in \u001b[0;36mtensorsolve\u001b[1;34m(a, b, axes)\u001b[0m\n\u001b[0;32m    302\u001b[0m     \u001b[0ma\u001b[0m \u001b[1;33m=\u001b[0m \u001b[0ma\u001b[0m\u001b[1;33m.\u001b[0m\u001b[0mreshape\u001b[0m\u001b[1;33m(\u001b[0m\u001b[1;33m-\u001b[0m\u001b[1;36m1\u001b[0m\u001b[1;33m,\u001b[0m \u001b[0mprod\u001b[0m\u001b[1;33m)\u001b[0m\u001b[1;33m\u001b[0m\u001b[1;33m\u001b[0m\u001b[0m\n\u001b[0;32m    303\u001b[0m     \u001b[0mb\u001b[0m \u001b[1;33m=\u001b[0m \u001b[0mb\u001b[0m\u001b[1;33m.\u001b[0m\u001b[0mravel\u001b[0m\u001b[1;33m(\u001b[0m\u001b[1;33m)\u001b[0m\u001b[1;33m\u001b[0m\u001b[1;33m\u001b[0m\u001b[0m\n\u001b[1;32m--> 304\u001b[1;33m     \u001b[0mres\u001b[0m \u001b[1;33m=\u001b[0m \u001b[0mwrap\u001b[0m\u001b[1;33m(\u001b[0m\u001b[0msolve\u001b[0m\u001b[1;33m(\u001b[0m\u001b[0ma\u001b[0m\u001b[1;33m,\u001b[0m \u001b[0mb\u001b[0m\u001b[1;33m)\u001b[0m\u001b[1;33m)\u001b[0m\u001b[1;33m\u001b[0m\u001b[1;33m\u001b[0m\u001b[0m\n\u001b[0m\u001b[0;32m    305\u001b[0m     \u001b[0mres\u001b[0m\u001b[1;33m.\u001b[0m\u001b[0mshape\u001b[0m \u001b[1;33m=\u001b[0m \u001b[0moldshape\u001b[0m\u001b[1;33m\u001b[0m\u001b[1;33m\u001b[0m\u001b[0m\n\u001b[0;32m    306\u001b[0m     \u001b[1;32mreturn\u001b[0m \u001b[0mres\u001b[0m\u001b[1;33m\u001b[0m\u001b[1;33m\u001b[0m\u001b[0m\n",
      "\u001b[1;32m<__array_function__ internals>\u001b[0m in \u001b[0;36msolve\u001b[1;34m(*args, **kwargs)\u001b[0m\n",
      "\u001b[1;32mc:\\Users\\Antoine\\AppData\\Local\\Programs\\Python\\Python39\\lib\\site-packages\\numpy\\linalg\\linalg.py\u001b[0m in \u001b[0;36msolve\u001b[1;34m(a, b)\u001b[0m\n\u001b[0;32m    378\u001b[0m     \u001b[0ma\u001b[0m\u001b[1;33m,\u001b[0m \u001b[0m_\u001b[0m \u001b[1;33m=\u001b[0m \u001b[0m_makearray\u001b[0m\u001b[1;33m(\u001b[0m\u001b[0ma\u001b[0m\u001b[1;33m)\u001b[0m\u001b[1;33m\u001b[0m\u001b[1;33m\u001b[0m\u001b[0m\n\u001b[0;32m    379\u001b[0m     \u001b[0m_assert_stacked_2d\u001b[0m\u001b[1;33m(\u001b[0m\u001b[0ma\u001b[0m\u001b[1;33m)\u001b[0m\u001b[1;33m\u001b[0m\u001b[1;33m\u001b[0m\u001b[0m\n\u001b[1;32m--> 380\u001b[1;33m     \u001b[0m_assert_stacked_square\u001b[0m\u001b[1;33m(\u001b[0m\u001b[0ma\u001b[0m\u001b[1;33m)\u001b[0m\u001b[1;33m\u001b[0m\u001b[1;33m\u001b[0m\u001b[0m\n\u001b[0m\u001b[0;32m    381\u001b[0m     \u001b[0mb\u001b[0m\u001b[1;33m,\u001b[0m \u001b[0mwrap\u001b[0m \u001b[1;33m=\u001b[0m \u001b[0m_makearray\u001b[0m\u001b[1;33m(\u001b[0m\u001b[0mb\u001b[0m\u001b[1;33m)\u001b[0m\u001b[1;33m\u001b[0m\u001b[1;33m\u001b[0m\u001b[0m\n\u001b[0;32m    382\u001b[0m     \u001b[0mt\u001b[0m\u001b[1;33m,\u001b[0m \u001b[0mresult_t\u001b[0m \u001b[1;33m=\u001b[0m \u001b[0m_commonType\u001b[0m\u001b[1;33m(\u001b[0m\u001b[0ma\u001b[0m\u001b[1;33m,\u001b[0m \u001b[0mb\u001b[0m\u001b[1;33m)\u001b[0m\u001b[1;33m\u001b[0m\u001b[1;33m\u001b[0m\u001b[0m\n",
      "\u001b[1;32mc:\\Users\\Antoine\\AppData\\Local\\Programs\\Python\\Python39\\lib\\site-packages\\numpy\\linalg\\linalg.py\u001b[0m in \u001b[0;36m_assert_stacked_square\u001b[1;34m(*arrays)\u001b[0m\n\u001b[0;32m    201\u001b[0m         \u001b[0mm\u001b[0m\u001b[1;33m,\u001b[0m \u001b[0mn\u001b[0m \u001b[1;33m=\u001b[0m \u001b[0ma\u001b[0m\u001b[1;33m.\u001b[0m\u001b[0mshape\u001b[0m\u001b[1;33m[\u001b[0m\u001b[1;33m-\u001b[0m\u001b[1;36m2\u001b[0m\u001b[1;33m:\u001b[0m\u001b[1;33m]\u001b[0m\u001b[1;33m\u001b[0m\u001b[1;33m\u001b[0m\u001b[0m\n\u001b[0;32m    202\u001b[0m         \u001b[1;32mif\u001b[0m \u001b[0mm\u001b[0m \u001b[1;33m!=\u001b[0m \u001b[0mn\u001b[0m\u001b[1;33m:\u001b[0m\u001b[1;33m\u001b[0m\u001b[1;33m\u001b[0m\u001b[0m\n\u001b[1;32m--> 203\u001b[1;33m             \u001b[1;32mraise\u001b[0m \u001b[0mLinAlgError\u001b[0m\u001b[1;33m(\u001b[0m\u001b[1;34m'Last 2 dimensions of the array must be square'\u001b[0m\u001b[1;33m)\u001b[0m\u001b[1;33m\u001b[0m\u001b[1;33m\u001b[0m\u001b[0m\n\u001b[0m\u001b[0;32m    204\u001b[0m \u001b[1;33m\u001b[0m\u001b[0m\n\u001b[0;32m    205\u001b[0m \u001b[1;32mdef\u001b[0m \u001b[0m_assert_finite\u001b[0m\u001b[1;33m(\u001b[0m\u001b[1;33m*\u001b[0m\u001b[0marrays\u001b[0m\u001b[1;33m)\u001b[0m\u001b[1;33m:\u001b[0m\u001b[1;33m\u001b[0m\u001b[1;33m\u001b[0m\u001b[0m\n",
      "\u001b[1;31mLinAlgError\u001b[0m: Last 2 dimensions of the array must be square"
     ]
    }
   ],
   "source": [
    "print(A.view(np.ndarray).shape, b.contract().view(np.ndarray).shape)\n",
    "c = np.linalg.tensorsolve(A.view(np.ndarray), b.contract().view(np.ndarray))"
   ]
  },
  {
   "cell_type": "code",
   "execution_count": 76,
   "metadata": {},
   "outputs": [
    {
     "name": "stdout",
     "output_type": "stream",
     "text": [
      "Reconstruction error: 1.0707434133867275\n"
     ]
    }
   ],
   "source": [
    "xx = x.contract()\n",
    "bb = b.contract()\n",
    "print(\"Reconstruction error:\", np.linalg.norm(xx - bb))"
   ]
  },
  {
   "cell_type": "markdown",
   "metadata": {},
   "source": [
    "### Tensor decomposition"
   ]
  },
  {
   "cell_type": "code",
   "execution_count": null,
   "metadata": {},
   "outputs": [
    {
     "name": "stdout",
     "output_type": "stream",
     "text": [
      "Decomposition error: 1.1397139833714047e-05\n"
     ]
    }
   ],
   "source": [
    "A = np.arange(10*10*10*10*10).reshape(10, 10, 10, 10, 10)\n",
    "Att = TensorTrain.from_tensor(A, [1, 2, 2, 2, 2, 1])\n",
    "\n",
    "print(\"Decomposition error:\", np.linalg.norm(A - Att.contract().squeeze()))"
   ]
  },
  {
   "cell_type": "code",
   "execution_count": null,
   "metadata": {},
   "outputs": [
    {
     "name": "stdout",
     "output_type": "stream",
     "text": [
      "Identity error: 3.7416573867739413\n",
      "TensorNetwork(\n",
      "    core_0: TensorCore(r_0 {1}, i {4}, r_1 {2}),\n",
      "    core_1: TensorCore(r_1 {2}, j {4}, r_2 {2}),\n",
      "    core_2: TensorCore(r_2 {2}, k {4}, r_3 {2}),\n",
      "    core_3: TensorCore(r_3 {2}, l {4}, r_4 {1})\n",
      ")\n"
     ]
    }
   ],
   "source": [
    "Id = np.eye(4*4).reshape(4, 4, 4, 4)\n",
    "I = TensorTrain.from_tensor(Id, [1, 2, 2, 2, 1])\n",
    "\n",
    "print(\"Identity error:\", np.linalg.norm(Id - I.contract().squeeze()))\n",
    "\n",
    "\n",
    "id = TensorNetwork([TensorCore(Id, ['i', 'j', 'k', 'l'])])\n",
    "U = TensorNetwork([TensorCore(np.random.randn(4, 4), ['i', 'j'])])\n",
    "\n",
    "I.rename(\"m_1\", \"i\")\n",
    "I.rename(\"m_2\", \"j\")\n",
    "I.rename(\"m_3\", \"k\")\n",
    "I.rename(\"m_4\", \"l\")\n",
    "\n",
    "print(I, )"
   ]
  }
 ],
 "metadata": {
  "kernelspec": {
   "display_name": "Python 3",
   "language": "python",
   "name": "python3"
  },
  "language_info": {
   "codemirror_mode": {
    "name": "ipython",
    "version": 3
   },
   "file_extension": ".py",
   "mimetype": "text/x-python",
   "name": "python",
   "nbconvert_exporter": "python",
   "pygments_lexer": "ipython3",
   "version": "3.9.7"
  }
 },
 "nbformat": 4,
 "nbformat_minor": 2
}
