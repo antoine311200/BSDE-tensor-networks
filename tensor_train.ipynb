{
 "cells": [
  {
   "cell_type": "code",
   "execution_count": 1,
   "metadata": {},
   "outputs": [],
   "source": [
    "%load_ext autoreload\n",
    "%autoreload 2"
   ]
  },
  {
   "cell_type": "code",
   "execution_count": 2,
   "metadata": {},
   "outputs": [],
   "source": [
    "from bsde_solver.tensor.tensor_train import TensorTrain, left_unfold, right_unfold\n",
    "from bsde_solver.tensor.tensor_core import TensorCore\n",
    "from bsde_solver.tensor.tensor_network import TensorNetwork\n",
    "\n",
    "import numpy as np\n",
    "\n",
    "np.set_printoptions(precision=2)\n",
    "np.set_printoptions(suppress=True)\n"
   ]
  },
  {
   "cell_type": "code",
   "execution_count": 3,
   "metadata": {},
   "outputs": [
    {
     "data": {
      "text/plain": [
       "TensorNetwork(\n",
       "    core_0: TensorCore(r_0 {1}, m_1 {4}, r_1 {3}),\n",
       "    core_1: TensorCore(r_1 {3}, m_2 {4}, r_2 {3}),\n",
       "    core_2: TensorCore(r_2 {3}, m_3 {4}, r_3 {3}),\n",
       "    core_3: TensorCore(r_3 {3}, m_4 {4}, r_4 {1})\n",
       ")"
      ]
     },
     "execution_count": 3,
     "metadata": {},
     "output_type": "execute_result"
    }
   ],
   "source": [
    "tt = TensorTrain(shape=[4, 4, 4, 4], ranks=[1, 3, 3, 3, 1])\n",
    "tt.randomize()"
   ]
  },
  {
   "cell_type": "markdown",
   "metadata": {},
   "source": [
    "Implementation of several functions and algorithms with tensor train decomposition using the following random tensor train (matrix product state):\n",
    "\n",
    "<center><img src=\"./images/test_tt.png\" style=\"width: 40%\"/></center>"
   ]
  },
  {
   "cell_type": "code",
   "execution_count": 4,
   "metadata": {},
   "outputs": [
    {
     "data": {
      "text/plain": [
       "TensorNetwork(\n",
       "    core_0: TensorCore(r_0 {1}, m_1 {4}, r_1 {3}),\n",
       "    core_1: TensorCore(r_1 {3}, m_2 {4}, r_2 {3}),\n",
       "    core_2: TensorCore(r_2 {3}, m_3 {4}, r_3 {3}),\n",
       "    core_3: TensorCore(r_3 {3}, m_4 {4}, r_4 {1})\n",
       ")"
      ]
     },
     "execution_count": 4,
     "metadata": {},
     "output_type": "execute_result"
    }
   ],
   "source": [
    "tt"
   ]
  },
  {
   "cell_type": "markdown",
   "metadata": {},
   "source": [
    "### Left and Right unfoldings\n",
    "\n",
    "Left unfolding:\n",
    "<center><img src=\"./images/left_unfold.png\" style=\"width: 40%\"/></center>\n",
    "\n",
    "Right unfolding:\n",
    "<center><img src=\"./images/right_unfold.png\" style=\"width: 40%\"/></center>"
   ]
  },
  {
   "cell_type": "code",
   "execution_count": 5,
   "metadata": {},
   "outputs": [
    {
     "name": "stdout",
     "output_type": "stream",
     "text": [
      "core_1: TensorCore(r_1 {3}, m_2+r_2 {12})\n",
      "core_1: TensorCore(r_1+m_2 {12}, r_2 {3})\n"
     ]
    }
   ],
   "source": [
    "R = right_unfold(tt[1])\n",
    "L = left_unfold(tt[1])\n",
    "\n",
    "print(R)\n",
    "print(L)"
   ]
  },
  {
   "cell_type": "markdown",
   "metadata": {},
   "source": [
    "### Left and Right orthogonalizations\n",
    "\n",
    "\n",
    "Left orthogonalization:\n",
    "<center><img src=\"./images/tt_left_ortho.png\" style=\"width: 40%\"/></center>\n",
    "\n",
    "Right orthogonalization:\n",
    "<center><img src=\"./images/tt_right_ortho.png\" style=\"width: 40%\"/></center>\n"
   ]
  },
  {
   "cell_type": "code",
   "execution_count": 6,
   "metadata": {},
   "outputs": [],
   "source": [
    "tt1 = tt.copy()\n",
    "tt2 = tt.copy()"
   ]
  },
  {
   "cell_type": "code",
   "execution_count": 7,
   "metadata": {},
   "outputs": [
    {
     "data": {
      "text/plain": [
       "(array([[[-0.87, -0.08, -0.52],\n",
       "         [ 0.16,  0.24,  0.17],\n",
       "         [ 0.74, -0.96, -0.99],\n",
       "         [ 0.4 , -0.06, -0.97]]]),\n",
       " array([[[-0.87, -0.08, -0.52],\n",
       "         [ 0.16,  0.24,  0.17],\n",
       "         [ 0.74, -0.96, -0.99],\n",
       "         [ 0.4 , -0.06, -0.97]]]),\n",
       " array([[[-0.87, -0.08, -0.52],\n",
       "         [ 0.16,  0.24,  0.17],\n",
       "         [ 0.74, -0.96, -0.99],\n",
       "         [ 0.4 , -0.06, -0.97]]]))"
      ]
     },
     "execution_count": 7,
     "metadata": {},
     "output_type": "execute_result"
    }
   ],
   "source": [
    "tt[0].view(np.ndarray), tt1[0].view(np.ndarray), tt2[0].view(np.ndarray)"
   ]
  },
  {
   "cell_type": "code",
   "execution_count": 8,
   "metadata": {},
   "outputs": [],
   "source": [
    "tt1.orthonormalize(mode=\"left\")"
   ]
  },
  {
   "cell_type": "markdown",
   "metadata": {},
   "source": [
    "<center><img src=\"./images/tt_left_ortho_id.png\" style=\"width: 30%\"/></center>"
   ]
  },
  {
   "cell_type": "code",
   "execution_count": 9,
   "metadata": {},
   "outputs": [
    {
     "data": {
      "text/plain": [
       "array([[ 1.,  0., -0.],\n",
       "       [ 0.,  1., -0.],\n",
       "       [-0., -0.,  1.]])"
      ]
     },
     "execution_count": 9,
     "metadata": {},
     "output_type": "execute_result"
    }
   ],
   "source": [
    "L = left_unfold(tt1[1]).view(np.ndarray)\n",
    "L.T @ L"
   ]
  },
  {
   "cell_type": "code",
   "execution_count": 10,
   "metadata": {},
   "outputs": [],
   "source": [
    "tt2.orthonormalize(mode=\"right\")"
   ]
  },
  {
   "cell_type": "markdown",
   "metadata": {},
   "source": [
    "<center><img src=\"./images/tt_right_ortho_id.png\" style=\"width: 30%\"/></center>"
   ]
  },
  {
   "cell_type": "code",
   "execution_count": 11,
   "metadata": {},
   "outputs": [
    {
     "data": {
      "text/plain": [
       "array([[ 1., -0., -0.],\n",
       "       [-0.,  1.,  0.],\n",
       "       [-0.,  0.,  1.]])"
      ]
     },
     "execution_count": 11,
     "metadata": {},
     "output_type": "execute_result"
    }
   ],
   "source": [
    "R = right_unfold(tt2[3]).view(np.ndarray)\n",
    "R @ R.T"
   ]
  },
  {
   "cell_type": "markdown",
   "metadata": {},
   "source": [
    "### Left & Right part of the tensor train\n",
    "\n",
    "Left part :\n",
    "<center><img src=\"./images/left_contract.png\" style=\"width: 50%\"/></center>\n",
    "Right part :\n",
    "<center><img src=\"./images/right_contract.png\" style=\"width: 50%\"/></center>\n",
    "\n",
    "Then, we can write the tensor train as:\n",
    "\n",
    "<center><img src=\"./images/left_right_repr.png\" style=\"width: 80%\"/></center>\n"
   ]
  },
  {
   "cell_type": "markdown",
   "metadata": {},
   "source": [
    "## Alternating Least Squares (ALS) algorithm"
   ]
  },
  {
   "cell_type": "code",
   "execution_count": 12,
   "metadata": {},
   "outputs": [],
   "source": [
    "from opt_einsum import contract\n",
    "\n",
    "def retraction_operator(tt, i):\n",
    "    operator = tt.extract([f'core_{j}' for j in range(tt.order) if j != i])\n",
    "    return operator"
   ]
  },
  {
   "cell_type": "code",
   "execution_count": 13,
   "metadata": {},
   "outputs": [
    {
     "name": "stdout",
     "output_type": "stream",
     "text": [
      "TensorNetwork(\n",
      "    core_0: TensorCore(r_0 {1}, m_1 {4}, r_1 {3}),\n",
      "    core_1: TensorCore(r_1 {3}, m_2 {4}, r_2 {3}),\n",
      "    core_2: TensorCore(r_2 {3}, m_3 {4}, r_3 {3}),\n",
      "    core_3: TensorCore(r_3 {3}, m_4 {4}, r_4 {1})\n",
      ")\n",
      "\n",
      "Rectraction operator (1st):\n",
      "TensorNetwork(\n",
      "    core_1: TensorCore(r_1 {3}, m_2 {4}, r_2 {3}),\n",
      "    core_2: TensorCore(r_2 {3}, m_3 {4}, r_3 {3}),\n",
      "    core_3: TensorCore(r_3 {3}, m_4 {4}, r_4 {1})\n",
      ")\n",
      "TensorCore(r_1 {3}, m_2 {4}, m_3 {4}, m_4 {4}, r_4 {1})\n"
     ]
    }
   ],
   "source": [
    "tt3 = tt.copy()\n",
    "tt3.orthonormalize(mode=\"right\")\n",
    "\n",
    "print(tt3)\n",
    "\n",
    "P1 = retraction_operator(tt3, 0)\n",
    "print(\"\\nRectraction operator (1st):\")\n",
    "print(P1)\n",
    "print(P1.contract())"
   ]
  },
  {
   "cell_type": "code",
   "execution_count": 14,
   "metadata": {},
   "outputs": [
    {
     "name": "stdout",
     "output_type": "stream",
     "text": [
      "\n",
      "Rectraction operator (2nd):\n",
      "TensorNetwork(\n",
      "    core_0: TensorCore(r_0 {1}, m_1 {4}, r_1 {3}),\n",
      "    core_2: TensorCore(r_2 {3}, m_3 {4}, r_3 {3}),\n",
      "    core_3: TensorCore(r_3 {3}, m_4 {4}, r_4 {1})\n",
      ")\n",
      "TensorCore(r_0 {1}, m_1 {4}, r_1 {3}, r_2 {3}, m_3 {4}, m_4 {4}, r_4 {1})\n"
     ]
    },
    {
     "data": {
      "text/plain": [
       "array([[ 1.,  0.,  0.,  0.,  0., -0., -0.,  0., -0.],\n",
       "       [ 0.,  1.,  0.,  0., -0., -0.,  0.,  0.,  0.],\n",
       "       [ 0.,  0.,  1.,  0., -0.,  0., -0., -0.,  0.],\n",
       "       [ 0.,  0.,  0.,  1.,  0.,  0.,  0., -0., -0.],\n",
       "       [ 0., -0., -0.,  0.,  1.,  0., -0.,  0.,  0.],\n",
       "       [-0., -0.,  0.,  0.,  0.,  1.,  0.,  0.,  0.],\n",
       "       [-0.,  0., -0.,  0., -0.,  0.,  1.,  0.,  0.],\n",
       "       [ 0.,  0., -0., -0.,  0.,  0.,  0.,  1.,  0.],\n",
       "       [-0.,  0.,  0., -0.,  0.,  0.,  0.,  0.,  1.]])"
      ]
     },
     "execution_count": 14,
     "metadata": {},
     "output_type": "execute_result"
    }
   ],
   "source": [
    "tt3.orthonormalize(mode=\"left\")\n",
    "tt3.orthonormalize(mode=\"right\", start=1)\n",
    "\n",
    "P2 = retraction_operator(tt3, 1)\n",
    "print(\"\\nRectraction operator (2nd):\")\n",
    "print(P2)\n",
    "print(P2.contract())\n",
    "\n",
    "P2_mat = P2.contract().unfold(('r_1', 'r_2'), -1).view(np.ndarray)\n",
    "(P2_mat @ P2_mat.T)"
   ]
  },
  {
   "cell_type": "code",
   "execution_count": 15,
   "metadata": {},
   "outputs": [
    {
     "name": "stdout",
     "output_type": "stream",
     "text": [
      "TensorCore(r_0 {1}, m_1 {4}, m_2 {4}, r_2 {3}, r_3 {3}, m_4 {4}, r_4 {1})\n"
     ]
    },
    {
     "data": {
      "text/plain": [
       "array([[ 1.,  0.,  0., -0., -0., -0.,  0., -0.,  0.],\n",
       "       [ 0.,  1.,  0., -0., -0., -0.,  0.,  0., -0.],\n",
       "       [ 0.,  0.,  1., -0.,  0., -0.,  0.,  0.,  0.],\n",
       "       [-0., -0., -0.,  1.,  0.,  0., -0., -0.,  0.],\n",
       "       [-0., -0.,  0.,  0.,  1.,  0.,  0., -0.,  0.],\n",
       "       [-0., -0., -0.,  0.,  0.,  1.,  0.,  0., -0.],\n",
       "       [ 0.,  0.,  0., -0.,  0.,  0.,  1.,  0.,  0.],\n",
       "       [-0.,  0.,  0., -0., -0.,  0.,  0.,  1.,  0.],\n",
       "       [ 0., -0.,  0.,  0.,  0., -0.,  0.,  0.,  1.]])"
      ]
     },
     "execution_count": 15,
     "metadata": {},
     "output_type": "execute_result"
    }
   ],
   "source": [
    "tt3.orthonormalize(mode=\"left\")\n",
    "tt3.orthonormalize(mode=\"right\", start=2)\n",
    "\n",
    "P3 = retraction_operator(tt3, 2)\n",
    "print(P3.contract())\n",
    "P3_mat = P3.contract().unfold(('r_2', 'r_3'), -1).view(np.ndarray)\n",
    "(P3_mat @ P3_mat.T)"
   ]
  },
  {
   "cell_type": "code",
   "execution_count": 16,
   "metadata": {},
   "outputs": [],
   "source": [
    "ttt = tt.copy()\n",
    "ttt.orthonormalize(mode=\"left\")"
   ]
  },
  {
   "cell_type": "markdown",
   "metadata": {},
   "source": [
    "#### Rename indices"
   ]
  },
  {
   "cell_type": "code",
   "execution_count": 17,
   "metadata": {},
   "outputs": [
    {
     "data": {
      "text/plain": [
       "(TensorNetwork(\n",
       "     core_0: TensorCore(r_0 {1}, m_1 {4}, r_1 {3}),\n",
       "     core_1: TensorCore(r_1 {3}, m_2 {4}, r_2 {3}),\n",
       "     core_2: TensorCore(r_2 {3}, m_3 {4}, r_3 {3}),\n",
       "     core_3: TensorCore(r_3 {3}, m_4 {4}, r_4 {1})\n",
       " ),\n",
       " TensorNetwork(\n",
       "     core_0: TensorCore(r_0 {1}, n_1 {4}, r_1 {3}),\n",
       "     core_1: TensorCore(r_1 {3}, n_2 {4}, r_2 {3}),\n",
       "     core_2: TensorCore(r_2 {3}, n_3 {4}, r_3 {3}),\n",
       "     core_3: TensorCore(r_3 {3}, n_4 {4}, r_4 {1})\n",
       " ))"
      ]
     },
     "execution_count": 17,
     "metadata": {},
     "output_type": "execute_result"
    }
   ],
   "source": [
    "tt4 = tt.copy()\n",
    "tt5 = tt4.rename(\"m_*\", \"n_*\", inplace=False)\n",
    "tt4, tt5"
   ]
  },
  {
   "cell_type": "markdown",
   "metadata": {},
   "source": [
    "#### Micro-optimization\n",
    "\n",
    "At each step of the ALS algorithm, we need to compute the following expression:\n",
    "\n",
    "$$P_i^T A P_i "
   ]
  },
  {
   "cell_type": "code",
   "execution_count": 18,
   "metadata": {},
   "outputs": [
    {
     "name": "stdout",
     "output_type": "stream",
     "text": [
      "TensorNetwork(\n",
      "    core_0: TensorCore(t_0 {1}, m_1 {10}, t_1 {4}),\n",
      "    core_1: TensorCore(t_1 {4}, m_2 {10}, t_2 {4}),\n",
      "    core_2: TensorCore(t_2 {4}, m_3 {10}, t_3 {1})\n",
      ")\n",
      "TensorNetwork(\n",
      "    core_0: TensorCore(t_0 {1}, m_1 {10}, t_1 {8}),\n",
      "    core_1: TensorCore(t_1 {8}, m_2 {10}, t_2 {8}),\n",
      "    core_2: TensorCore(t_2 {8}, m_3 {10}, t_3 {1})\n",
      ")\n",
      "TensorNetwork(\n",
      "    core_0: TensorCore(r_0 {1}, m_1 {10}, r_1 {3}),\n",
      "    core_1: TensorCore(r_1 {3}, m_2 {10}, r_2 {3}),\n",
      "    core_2: TensorCore(r_2 {3}, m_3 {10}, r_3 {1})\n",
      ")\n",
      "Elapsed time: 0.18500s\n"
     ]
    }
   ],
   "source": [
    "def ALS(A, b, n_iter=10, ranks=None):\n",
    "    shape = [10, 10, 10]\n",
    "    ranks = [1, 3, 3, 1]\n",
    "    tt = TensorTrain(shape, ranks)\n",
    "    tt.randomize()\n",
    "    tt.orthonormalize(mode=\"right\", start=1)\n",
    "\n",
    "    print(tt)\n",
    "\n",
    "    def get_idx(j):\n",
    "        if j == 0: indices = (b[j].indices[0], *tt[j].indices[1:])\n",
    "        elif j == tt.order-1: indices = (*tt[j].indices[:-1], b[j].indices[2])\n",
    "        else: indices = tt[j].indices\n",
    "        return indices\n",
    "\n",
    "    def get_idx2(j):\n",
    "        if j == 0: indices = (f'r_{tt.order}', f'm_{j+1}', f'r_{j+1}', f't_{tt.order}', f'n_{j+1}', f't_{j+1}', )\n",
    "        #(f't_{tt.order-1}', *tt[j].indices[1:], )\n",
    "        elif j == tt.order-1: indices = (f'r_{j}', f'm_{j+1}', f'r_0', f't_{j}', f'n_{j+1}', f't_{0}', )\n",
    "        else: indices = (*tt[j].indices, f't_{j}', f'n_{j+1}', f't_{j+1}', )\n",
    "        return indices\n",
    "\n",
    "    def micro_optimization(tt, j):\n",
    "        P = retraction_operator(tt, j)\n",
    "        P.name = 'P'\n",
    "        # T = TensorNetwork(\n",
    "        #     cores=[P, A, P.rename(\"m_*\", \"n_*\", inplace=False).rename(\"r_*\", \"t_*\", inplace=False)],\n",
    "        #     names=['P^T','A','P']\n",
    "        # ).contract(indices=get_idx2(j))\n",
    "        # U = TensorNetwork(cores=[P, b], names=['P','b']).contract(indices=get_idx(j))\n",
    "\n",
    "        # V = np.linalg.tensorsolve(T.view(np.ndarray), U.view(np.ndarray))\n",
    "        # V = TensorCore(V, indices=get_idx(j))\n",
    "\n",
    "        V = TensorNetwork(cores=[P, b], names=['P','b']).contract(indices=get_idx(j))\n",
    "        # print(V)\n",
    "        return V\n",
    "\n",
    "    for i in range(n_iter):\n",
    "        # Left half sweep\n",
    "        for j in range(tt.order-1):\n",
    "            # Micro optimization\n",
    "            V = micro_optimization(tt, j)\n",
    "\n",
    "            core_curr = tt.cores[f\"core_{j}\"]\n",
    "            core_next = tt.cores[f\"core_{j+1}\"]\n",
    "\n",
    "            L = left_unfold(V).view(np.ndarray)\n",
    "            R = right_unfold(core_next).view(np.ndarray)\n",
    "\n",
    "            Q, S = np.linalg.qr(L)\n",
    "            W = S @ R\n",
    "\n",
    "            tt.cores[f\"core_{j}\"] = TensorCore.like(Q, core_curr)\n",
    "            tt.cores[f\"core_{j+1}\"] = TensorCore.like(W, core_next)\n",
    "\n",
    "        # Right half sweep\n",
    "        for j in range(tt.order-1, 0, -1):\n",
    "            # Micro optimization\n",
    "            V = micro_optimization(tt, j)\n",
    "\n",
    "            core_prev = tt.cores[f\"core_{j-1}\"]\n",
    "            core_curr = tt.cores[f\"core_{j}\"]\n",
    "\n",
    "            L = left_unfold(core_prev).view(np.ndarray)\n",
    "            R = right_unfold(V).view(np.ndarray)\n",
    "\n",
    "            Q, S = np.linalg.qr(R.T)\n",
    "            W = L @ S.T\n",
    "\n",
    "            tt.cores[f\"core_{j-1}\"] = TensorCore.like(W, core_prev)\n",
    "            tt.cores[f\"core_{j}\"] = TensorCore.like(Q.T, core_curr)\n",
    "\n",
    "    return tt\n",
    "\n",
    "\n",
    "# b = TensorTrain([4, 4, 4, 4, 4], [1, 3, 3, 3, 3, 1])\n",
    "b = TensorTrain([10, 10, 10], [1, 4, 4, 1])\n",
    "b.randomize()\n",
    "b.rename('r_*', 't_*')\n",
    "print(b)\n",
    "b.orthonormalize(mode=\"right\")\n",
    "\n",
    "b = TensorTrain.from_tensor(np.arange(10*10*10).reshape(10, 10, 10), ranks=[1, 8, 8, 1])\n",
    "b.rename('r_*', 't_*')\n",
    "print(b)\n",
    "\n",
    "\n",
    "a = np.random.rand(3, 4, 5, 3, 4, 5)\n",
    "#.reshape(4, 4, 4, 4, 4, 4)\n",
    "A = TensorCore(a, ['m_1', 'm_2', 'm_3', 'n_1', 'n_2', 'n_3'])\n",
    "# print(b, A)\n",
    "\n",
    "import time\n",
    "\n",
    "start_time = time.time()\n",
    "x = ALS(A, b, n_iter=100)\n",
    "print(f\"Elapsed time: {(time.time() - start_time):.5f}s\")"
   ]
  },
  {
   "cell_type": "code",
   "execution_count": 63,
   "metadata": {},
   "outputs": [
    {
     "name": "stdout",
     "output_type": "stream",
     "text": [
      "TensorNetwork(\n",
      "    core_1: TensorCore(r_1 {3}, m_2 {4}, r_2 {3}),\n",
      "    core_2: TensorCore(r_2 {3}, m_3 {4}, r_3 {1})\n",
      ")\n",
      "TensorCore(r_1 {3}, m_2 {4}, m_3 {4}, r_3 {1})\n"
     ]
    },
    {
     "ename": "ValueError",
     "evalue": "axes don't match array",
     "output_type": "error",
     "traceback": [
      "\u001b[1;31m---------------------------------------------------------------------------\u001b[0m",
      "\u001b[1;31mValueError\u001b[0m                                Traceback (most recent call last)",
      "\u001b[1;32m~\\AppData\\Local\\Temp\\ipykernel_87464\\3850417689.py\u001b[0m in \u001b[0;36m<module>\u001b[1;34m\u001b[0m\n\u001b[0;32m     67\u001b[0m \u001b[0mn\u001b[0m \u001b[1;33m=\u001b[0m \u001b[0mX\u001b[0m\u001b[1;33m.\u001b[0m\u001b[0mshape\u001b[0m\u001b[1;33m[\u001b[0m\u001b[1;36m0\u001b[0m\u001b[1;33m]\u001b[0m\u001b[1;33m\u001b[0m\u001b[1;33m\u001b[0m\u001b[0m\n\u001b[0;32m     68\u001b[0m \u001b[1;33m\u001b[0m\u001b[0m\n\u001b[1;32m---> 69\u001b[1;33m \u001b[0mV\u001b[0m \u001b[1;33m=\u001b[0m \u001b[0mscalar_ALS\u001b[0m\u001b[1;33m(\u001b[0m\u001b[0mX\u001b[0m\u001b[1;33m,\u001b[0m \u001b[0mb\u001b[0m\u001b[1;33m,\u001b[0m \u001b[0mn_iter\u001b[0m\u001b[1;33m=\u001b[0m\u001b[1;36m100\u001b[0m\u001b[1;33m,\u001b[0m \u001b[0mranks\u001b[0m\u001b[1;33m=\u001b[0m\u001b[1;33m[\u001b[0m\u001b[1;36m1\u001b[0m\u001b[1;33m,\u001b[0m \u001b[1;36m3\u001b[0m\u001b[1;33m,\u001b[0m \u001b[1;36m3\u001b[0m\u001b[1;33m,\u001b[0m \u001b[1;36m1\u001b[0m\u001b[1;33m]\u001b[0m\u001b[1;33m)\u001b[0m\u001b[1;33m\u001b[0m\u001b[1;33m\u001b[0m\u001b[0m\n\u001b[0m\u001b[0;32m     70\u001b[0m \u001b[1;31m# Create tensor dot product of x (4, 4, 4)\u001b[0m\u001b[1;33m\u001b[0m\u001b[1;33m\u001b[0m\u001b[0m\n\u001b[0;32m     71\u001b[0m \u001b[1;31m# print(X)\u001b[0m\u001b[1;33m\u001b[0m\u001b[1;33m\u001b[0m\u001b[0m\n",
      "\u001b[1;32m~\\AppData\\Local\\Temp\\ipykernel_87464\\3850417689.py\u001b[0m in \u001b[0;36mscalar_ALS\u001b[1;34m(X, b, n_iter, ranks)\u001b[0m\n\u001b[0;32m     30\u001b[0m             \u001b[0mcore_next\u001b[0m \u001b[1;33m=\u001b[0m \u001b[0mtt\u001b[0m\u001b[1;33m.\u001b[0m\u001b[0mcores\u001b[0m\u001b[1;33m[\u001b[0m\u001b[1;34mf\"core_{j+1}\"\u001b[0m\u001b[1;33m]\u001b[0m\u001b[1;33m\u001b[0m\u001b[1;33m\u001b[0m\u001b[0m\n\u001b[0;32m     31\u001b[0m \u001b[1;33m\u001b[0m\u001b[0m\n\u001b[1;32m---> 32\u001b[1;33m             \u001b[0mL\u001b[0m \u001b[1;33m=\u001b[0m \u001b[0mleft_unfold\u001b[0m\u001b[1;33m(\u001b[0m\u001b[0mV\u001b[0m\u001b[1;33m)\u001b[0m\u001b[1;33m.\u001b[0m\u001b[0mview\u001b[0m\u001b[1;33m(\u001b[0m\u001b[0mnp\u001b[0m\u001b[1;33m.\u001b[0m\u001b[0mndarray\u001b[0m\u001b[1;33m)\u001b[0m\u001b[1;33m\u001b[0m\u001b[1;33m\u001b[0m\u001b[0m\n\u001b[0m\u001b[0;32m     33\u001b[0m             \u001b[0mR\u001b[0m \u001b[1;33m=\u001b[0m \u001b[0mright_unfold\u001b[0m\u001b[1;33m(\u001b[0m\u001b[0mcore_next\u001b[0m\u001b[1;33m)\u001b[0m\u001b[1;33m.\u001b[0m\u001b[0mview\u001b[0m\u001b[1;33m(\u001b[0m\u001b[0mnp\u001b[0m\u001b[1;33m.\u001b[0m\u001b[0mndarray\u001b[0m\u001b[1;33m)\u001b[0m\u001b[1;33m\u001b[0m\u001b[1;33m\u001b[0m\u001b[0m\n\u001b[0;32m     34\u001b[0m \u001b[1;33m\u001b[0m\u001b[0m\n",
      "\u001b[1;32mC:\\Antoine\\Study\\CentraleSupélec\\3A\\Projet Recherche\\BSDE-tensor-networks\\src\\bsde_solver\\tensor\\tensor_train.py\u001b[0m in \u001b[0;36mleft_unfold\u001b[1;34m(core)\u001b[0m\n\u001b[0;32m      8\u001b[0m \u001b[1;33m\u001b[0m\u001b[0m\n\u001b[0;32m      9\u001b[0m \u001b[1;32mdef\u001b[0m \u001b[0mleft_unfold\u001b[0m\u001b[1;33m(\u001b[0m\u001b[0mcore\u001b[0m\u001b[1;33m:\u001b[0m \u001b[0mTensorCore\u001b[0m\u001b[1;33m)\u001b[0m\u001b[1;33m:\u001b[0m\u001b[1;33m\u001b[0m\u001b[1;33m\u001b[0m\u001b[0m\n\u001b[1;32m---> 10\u001b[1;33m     \u001b[1;32mreturn\u001b[0m \u001b[0mcore\u001b[0m\u001b[1;33m.\u001b[0m\u001b[0munfold\u001b[0m\u001b[1;33m(\u001b[0m\u001b[1;33m(\u001b[0m\u001b[1;36m0\u001b[0m\u001b[1;33m,\u001b[0m \u001b[1;36m1\u001b[0m\u001b[1;33m)\u001b[0m\u001b[1;33m,\u001b[0m \u001b[1;36m2\u001b[0m\u001b[1;33m)\u001b[0m\u001b[1;33m\u001b[0m\u001b[1;33m\u001b[0m\u001b[0m\n\u001b[0m\u001b[0;32m     11\u001b[0m \u001b[1;33m\u001b[0m\u001b[0m\n\u001b[0;32m     12\u001b[0m \u001b[1;32mdef\u001b[0m \u001b[0mright_unfold\u001b[0m\u001b[1;33m(\u001b[0m\u001b[0mcore\u001b[0m\u001b[1;33m:\u001b[0m \u001b[0mTensorCore\u001b[0m\u001b[1;33m)\u001b[0m\u001b[1;33m:\u001b[0m\u001b[1;33m\u001b[0m\u001b[1;33m\u001b[0m\u001b[0m\n",
      "\u001b[1;32mC:\\Antoine\\Study\\CentraleSupélec\\3A\\Projet Recherche\\BSDE-tensor-networks\\src\\bsde_solver\\tensor\\tensor_core.py\u001b[0m in \u001b[0;36munfold\u001b[1;34m(self, *args, **kwargs)\u001b[0m\n\u001b[0;32m    103\u001b[0m         ]\n\u001b[0;32m    104\u001b[0m \u001b[1;33m\u001b[0m\u001b[0m\n\u001b[1;32m--> 105\u001b[1;33m         \u001b[0mnew_array\u001b[0m \u001b[1;33m=\u001b[0m \u001b[0msuper\u001b[0m\u001b[1;33m(\u001b[0m\u001b[1;33m)\u001b[0m\u001b[1;33m.\u001b[0m\u001b[0mtranspose\u001b[0m\u001b[1;33m(\u001b[0m\u001b[1;33m*\u001b[0m\u001b[0mtranspose_axes\u001b[0m\u001b[1;33m)\u001b[0m\u001b[1;33m\u001b[0m\u001b[1;33m\u001b[0m\u001b[0m\n\u001b[0m\u001b[0;32m    106\u001b[0m         \u001b[0mnew_array\u001b[0m \u001b[1;33m=\u001b[0m \u001b[0mnew_array\u001b[0m\u001b[1;33m.\u001b[0m\u001b[0mreshape\u001b[0m\u001b[1;33m(\u001b[0m\u001b[1;33m*\u001b[0m\u001b[0mreshape_axes\u001b[0m\u001b[1;33m)\u001b[0m\u001b[1;33m\u001b[0m\u001b[1;33m\u001b[0m\u001b[0m\n\u001b[0;32m    107\u001b[0m         \u001b[0mnew_array\u001b[0m\u001b[1;33m.\u001b[0m\u001b[0mindices\u001b[0m \u001b[1;33m=\u001b[0m \u001b[0mnew_indices\u001b[0m\u001b[1;33m\u001b[0m\u001b[1;33m\u001b[0m\u001b[0m\n",
      "\u001b[1;31mValueError\u001b[0m: axes don't match array"
     ]
    }
   ],
   "source": [
    "def scalar_ALS(X, b, n_iter=10, ranks=None):\n",
    "    shape = tuple(X.shape[1] for _ in range(X.shape[0]))\n",
    "    tt = TensorTrain(shape, ranks)\n",
    "    tt.randomize()\n",
    "    tt.orthonormalize(mode=\"right\", start=1)\n",
    "\n",
    "    def get_idx(j):\n",
    "        if j == 0: indices = (A[j].indices[0], *tt[j].indices[1:])\n",
    "        elif j == tt.order-1: indices = (*tt[j].indices[:-1], A[j].indices[2])\n",
    "        else: indices = tt[j].indices\n",
    "        return indices\n",
    "\n",
    "    def micro_optimization(tt, j):\n",
    "        P = retraction_operator(tt, j)\n",
    "        # V = TensorNetwork(cores=[P, b], names=['P','b']).contract()#indices=get_idx(j))\n",
    "        # print(V)\n",
    "        print(P)\n",
    "        for core in P.cores:\n",
    "            core *= b\n",
    "        return P.contract()\n",
    "\n",
    "    for i in range(n_iter):\n",
    "        # Left half sweep\n",
    "        for j in range(tt.order-1):\n",
    "            # Micro optimization\n",
    "            V = micro_optimization(tt, j)\n",
    "            print(V)\n",
    "\n",
    "            core_curr = tt.cores[f\"core_{j}\"]\n",
    "            core_next = tt.cores[f\"core_{j+1}\"]\n",
    "\n",
    "            L = left_unfold(V).view(np.ndarray)\n",
    "            R = right_unfold(core_next).view(np.ndarray)\n",
    "\n",
    "            Q, S = np.linalg.qr(L)\n",
    "            W = S @ R\n",
    "\n",
    "            tt.cores[f\"core_{j}\"] = TensorCore.like(Q, core_curr)\n",
    "            tt.cores[f\"core_{j+1}\"] = TensorCore.like(W, core_next)\n",
    "\n",
    "        # Right half sweep\n",
    "        for j in range(tt.order-1, 0, -1):\n",
    "            # Micro optimization\n",
    "            V = micro_optimization(tt, j)\n",
    "\n",
    "            core_prev = tt.cores[f\"core_{j-1}\"]\n",
    "            core_curr = tt.cores[f\"core_{j}\"]\n",
    "\n",
    "            L = left_unfold(core_prev).view(np.ndarray)\n",
    "            R = right_unfold(V).view(np.ndarray)\n",
    "\n",
    "            Q, S = np.linalg.qr(R.T)\n",
    "            W = L @ S.T\n",
    "\n",
    "            tt.cores[f\"core_{j-1}\"] = TensorCore.like(W, core_prev)\n",
    "            tt.cores[f\"core_{j}\"] = TensorCore.like(Q.T, core_curr)\n",
    "\n",
    "    return tt\n",
    "\n",
    "from bsde_solver.utils import flatten\n",
    "\n",
    "b = 12\n",
    "# Create a tensor of shape (4, 4, 4) from x with each axis with polynomial degree 1, x, x^2, x^3\n",
    "d = 4\n",
    "x = np.array([-1, -1, 0.5])\n",
    "X = np.array([x**i for i in range(d)]).T\n",
    "n = X.shape[0]\n",
    "\n",
    "V = scalar_ALS(X, b, n_iter=100, ranks=[1, 3, 3, 1])\n",
    "# Create tensor dot product of x (4, 4, 4)\n",
    "# print(X)\n",
    "# result = contract(*flatten([[X[i], ('a_'+str(i), )] for i in range(n)]))\n",
    "# X.shape, result.shape, result"
   ]
  },
  {
   "cell_type": "code",
   "execution_count": null,
   "metadata": {},
   "outputs": [],
   "source": []
  },
  {
   "cell_type": "code",
   "execution_count": 19,
   "metadata": {},
   "outputs": [
    {
     "name": "stdout",
     "output_type": "stream",
     "text": [
      "Reconstruction error: 1.1886058111500251e-11\n"
     ]
    }
   ],
   "source": [
    "xx = x.contract()\n",
    "bb = b.contract()\n",
    "print(\"Reconstruction error:\", np.linalg.norm(xx - bb))"
   ]
  },
  {
   "cell_type": "code",
   "execution_count": 20,
   "metadata": {},
   "outputs": [
    {
     "data": {
      "text/plain": [
       "(TensorNetwork(\n",
       "     P_core_0: TensorCore(r_0 {1}, m_1 {10}, r_1 {3}),\n",
       "     P_core_1: TensorCore(r_1 {3}, m_2 {10}, r_2 {3}),\n",
       "     P_core_2: TensorCore(r_2 {3}, m_3 {10}, r_3 {1})\n",
       " ),\n",
       " TensorNetwork(\n",
       "     b_core_0: TensorCore(t_0 {1}, m_1 {10}, t_1 {8}),\n",
       "     b_core_1: TensorCore(t_1 {8}, m_2 {10}, t_2 {8}),\n",
       "     b_core_2: TensorCore(t_2 {8}, m_3 {10}, t_3 {1})\n",
       " ))"
      ]
     },
     "execution_count": 20,
     "metadata": {},
     "output_type": "execute_result"
    }
   ],
   "source": [
    "x, b"
   ]
  },
  {
   "cell_type": "code",
   "execution_count": 21,
   "metadata": {},
   "outputs": [
    {
     "ename": "ValueError",
     "evalue": "solve1: Input operand 1 has a mismatch in its core dimension 0, with gufunc signature (m,m),(m)->(m) (size 1000 is different from 60)",
     "output_type": "error",
     "traceback": [
      "\u001b[1;31m---------------------------------------------------------------------------\u001b[0m",
      "\u001b[1;31mValueError\u001b[0m                                Traceback (most recent call last)",
      "\u001b[1;32m~\\AppData\\Local\\Temp\\ipykernel_87464\\3539342682.py\u001b[0m in \u001b[0;36m<module>\u001b[1;34m\u001b[0m\n\u001b[0;32m      1\u001b[0m \u001b[0mc\u001b[0m \u001b[1;33m=\u001b[0m \u001b[0mb\u001b[0m\u001b[1;33m.\u001b[0m\u001b[0mcontract\u001b[0m\u001b[1;33m(\u001b[0m\u001b[0mindices\u001b[0m\u001b[1;33m=\u001b[0m\u001b[1;33m[\u001b[0m\u001b[1;34m'm_1'\u001b[0m\u001b[1;33m,\u001b[0m \u001b[1;34m'm_2'\u001b[0m\u001b[1;33m,\u001b[0m \u001b[1;34m'm_3'\u001b[0m\u001b[1;33m]\u001b[0m\u001b[1;33m)\u001b[0m\u001b[1;33m\u001b[0m\u001b[1;33m\u001b[0m\u001b[0m\n\u001b[1;32m----> 2\u001b[1;33m \u001b[0my\u001b[0m \u001b[1;33m=\u001b[0m \u001b[0mnp\u001b[0m\u001b[1;33m.\u001b[0m\u001b[0mlinalg\u001b[0m\u001b[1;33m.\u001b[0m\u001b[0mtensorsolve\u001b[0m\u001b[1;33m(\u001b[0m\u001b[0ma\u001b[0m\u001b[1;33m,\u001b[0m \u001b[0mc\u001b[0m\u001b[1;33m.\u001b[0m\u001b[0mview\u001b[0m\u001b[1;33m(\u001b[0m\u001b[0mnp\u001b[0m\u001b[1;33m.\u001b[0m\u001b[0mndarray\u001b[0m\u001b[1;33m)\u001b[0m\u001b[1;33m)\u001b[0m\u001b[1;31m#, axes=([3, 4, 5], [0, 1, 2]))\u001b[0m\u001b[1;33m\u001b[0m\u001b[1;33m\u001b[0m\u001b[0m\n\u001b[0m\u001b[0;32m      3\u001b[0m \u001b[0mprint\u001b[0m\u001b[1;33m(\u001b[0m\u001b[0mc\u001b[0m\u001b[1;33m.\u001b[0m\u001b[0mview\u001b[0m\u001b[1;33m(\u001b[0m\u001b[0mnp\u001b[0m\u001b[1;33m.\u001b[0m\u001b[0mndarray\u001b[0m\u001b[1;33m)\u001b[0m\u001b[1;33m)\u001b[0m\u001b[1;33m\u001b[0m\u001b[1;33m\u001b[0m\u001b[0m\n\u001b[0;32m      4\u001b[0m \u001b[0mprint\u001b[0m\u001b[1;33m(\u001b[0m\u001b[0ma\u001b[0m\u001b[1;33m.\u001b[0m\u001b[0mshape\u001b[0m\u001b[1;33m,\u001b[0m \u001b[0mc\u001b[0m\u001b[1;33m.\u001b[0m\u001b[0mview\u001b[0m\u001b[1;33m(\u001b[0m\u001b[0mnp\u001b[0m\u001b[1;33m.\u001b[0m\u001b[0mndarray\u001b[0m\u001b[1;33m)\u001b[0m\u001b[1;33m.\u001b[0m\u001b[0mshape\u001b[0m\u001b[1;33m)\u001b[0m\u001b[1;33m\u001b[0m\u001b[1;33m\u001b[0m\u001b[0m\n\u001b[0;32m      5\u001b[0m \u001b[0mprint\u001b[0m\u001b[1;33m(\u001b[0m\u001b[0mnp\u001b[0m\u001b[1;33m.\u001b[0m\u001b[0mtensordot\u001b[0m\u001b[1;33m(\u001b[0m\u001b[0ma\u001b[0m\u001b[1;33m,\u001b[0m \u001b[0my\u001b[0m\u001b[1;33m,\u001b[0m \u001b[0maxes\u001b[0m\u001b[1;33m=\u001b[0m\u001b[1;33m(\u001b[0m\u001b[1;33m[\u001b[0m\u001b[1;36m3\u001b[0m\u001b[1;33m,\u001b[0m \u001b[1;36m4\u001b[0m\u001b[1;33m,\u001b[0m \u001b[1;36m5\u001b[0m\u001b[1;33m]\u001b[0m\u001b[1;33m,\u001b[0m \u001b[1;33m[\u001b[0m\u001b[1;36m0\u001b[0m\u001b[1;33m,\u001b[0m \u001b[1;36m1\u001b[0m\u001b[1;33m,\u001b[0m \u001b[1;36m2\u001b[0m\u001b[1;33m]\u001b[0m\u001b[1;33m)\u001b[0m\u001b[1;33m)\u001b[0m\u001b[1;33m)\u001b[0m\u001b[1;33m\u001b[0m\u001b[1;33m\u001b[0m\u001b[0m\n",
      "\u001b[1;32mc:\\Users\\Antoine\\AppData\\Local\\Programs\\Python\\Python39\\lib\\site-packages\\numpy\\linalg\\linalg.py\u001b[0m in \u001b[0;36mtensorsolve\u001b[1;34m(a, b, axes)\u001b[0m\n\u001b[0;32m    318\u001b[0m     \u001b[0ma\u001b[0m \u001b[1;33m=\u001b[0m \u001b[0ma\u001b[0m\u001b[1;33m.\u001b[0m\u001b[0mreshape\u001b[0m\u001b[1;33m(\u001b[0m\u001b[0mprod\u001b[0m\u001b[1;33m,\u001b[0m \u001b[0mprod\u001b[0m\u001b[1;33m)\u001b[0m\u001b[1;33m\u001b[0m\u001b[1;33m\u001b[0m\u001b[0m\n\u001b[0;32m    319\u001b[0m     \u001b[0mb\u001b[0m \u001b[1;33m=\u001b[0m \u001b[0mb\u001b[0m\u001b[1;33m.\u001b[0m\u001b[0mravel\u001b[0m\u001b[1;33m(\u001b[0m\u001b[1;33m)\u001b[0m\u001b[1;33m\u001b[0m\u001b[1;33m\u001b[0m\u001b[0m\n\u001b[1;32m--> 320\u001b[1;33m     \u001b[0mres\u001b[0m \u001b[1;33m=\u001b[0m \u001b[0mwrap\u001b[0m\u001b[1;33m(\u001b[0m\u001b[0msolve\u001b[0m\u001b[1;33m(\u001b[0m\u001b[0ma\u001b[0m\u001b[1;33m,\u001b[0m \u001b[0mb\u001b[0m\u001b[1;33m)\u001b[0m\u001b[1;33m)\u001b[0m\u001b[1;33m\u001b[0m\u001b[1;33m\u001b[0m\u001b[0m\n\u001b[0m\u001b[0;32m    321\u001b[0m     \u001b[0mres\u001b[0m\u001b[1;33m.\u001b[0m\u001b[0mshape\u001b[0m \u001b[1;33m=\u001b[0m \u001b[0moldshape\u001b[0m\u001b[1;33m\u001b[0m\u001b[1;33m\u001b[0m\u001b[0m\n\u001b[0;32m    322\u001b[0m     \u001b[1;32mreturn\u001b[0m \u001b[0mres\u001b[0m\u001b[1;33m\u001b[0m\u001b[1;33m\u001b[0m\u001b[0m\n",
      "\u001b[1;32mc:\\Users\\Antoine\\AppData\\Local\\Programs\\Python\\Python39\\lib\\site-packages\\numpy\\linalg\\linalg.py\u001b[0m in \u001b[0;36msolve\u001b[1;34m(a, b)\u001b[0m\n\u001b[0;32m    407\u001b[0m     \u001b[0msignature\u001b[0m \u001b[1;33m=\u001b[0m \u001b[1;34m'DD->D'\u001b[0m \u001b[1;32mif\u001b[0m \u001b[0misComplexType\u001b[0m\u001b[1;33m(\u001b[0m\u001b[0mt\u001b[0m\u001b[1;33m)\u001b[0m \u001b[1;32melse\u001b[0m \u001b[1;34m'dd->d'\u001b[0m\u001b[1;33m\u001b[0m\u001b[1;33m\u001b[0m\u001b[0m\n\u001b[0;32m    408\u001b[0m     \u001b[0mextobj\u001b[0m \u001b[1;33m=\u001b[0m \u001b[0mget_linalg_error_extobj\u001b[0m\u001b[1;33m(\u001b[0m\u001b[0m_raise_linalgerror_singular\u001b[0m\u001b[1;33m)\u001b[0m\u001b[1;33m\u001b[0m\u001b[1;33m\u001b[0m\u001b[0m\n\u001b[1;32m--> 409\u001b[1;33m     \u001b[0mr\u001b[0m \u001b[1;33m=\u001b[0m \u001b[0mgufunc\u001b[0m\u001b[1;33m(\u001b[0m\u001b[0ma\u001b[0m\u001b[1;33m,\u001b[0m \u001b[0mb\u001b[0m\u001b[1;33m,\u001b[0m \u001b[0msignature\u001b[0m\u001b[1;33m=\u001b[0m\u001b[0msignature\u001b[0m\u001b[1;33m,\u001b[0m \u001b[0mextobj\u001b[0m\u001b[1;33m=\u001b[0m\u001b[0mextobj\u001b[0m\u001b[1;33m)\u001b[0m\u001b[1;33m\u001b[0m\u001b[1;33m\u001b[0m\u001b[0m\n\u001b[0m\u001b[0;32m    410\u001b[0m \u001b[1;33m\u001b[0m\u001b[0m\n\u001b[0;32m    411\u001b[0m     \u001b[1;32mreturn\u001b[0m \u001b[0mwrap\u001b[0m\u001b[1;33m(\u001b[0m\u001b[0mr\u001b[0m\u001b[1;33m.\u001b[0m\u001b[0mastype\u001b[0m\u001b[1;33m(\u001b[0m\u001b[0mresult_t\u001b[0m\u001b[1;33m,\u001b[0m \u001b[0mcopy\u001b[0m\u001b[1;33m=\u001b[0m\u001b[1;32mFalse\u001b[0m\u001b[1;33m)\u001b[0m\u001b[1;33m)\u001b[0m\u001b[1;33m\u001b[0m\u001b[1;33m\u001b[0m\u001b[0m\n",
      "\u001b[1;31mValueError\u001b[0m: solve1: Input operand 1 has a mismatch in its core dimension 0, with gufunc signature (m,m),(m)->(m) (size 1000 is different from 60)"
     ]
    }
   ],
   "source": [
    "c = b.contract(indices=['m_1', 'm_2', 'm_3'])\n",
    "y = np.linalg.tensorsolve(a, c.view(np.ndarray))#, axes=([3, 4, 5], [0, 1, 2]))\n",
    "print(c.view(np.ndarray))\n",
    "print(a.shape, c.view(np.ndarray).shape)\n",
    "print(np.tensordot(a, y, axes=([3, 4, 5], [0, 1, 2])))"
   ]
  },
  {
   "cell_type": "code",
   "execution_count": null,
   "metadata": {},
   "outputs": [
    {
     "name": "stdout",
     "output_type": "stream",
     "text": [
      "[[[ 4.23 -2.6   0.73  2.32  0.85]\n",
      "  [-2.41  0.65 -1.73 -0.44 -1.14]\n",
      "  [-0.21 -1.01 -0.25  0.3   1.81]\n",
      "  [-1.5   1.93  0.35  1.87  0.73]]\n",
      "\n",
      " [[ 0.59  2.26  0.    0.46  2.5 ]\n",
      "  [ 0.45  0.59  1.45 -0.47  2.44]\n",
      "  [-3.55  1.52  0.93 -0.43 -1.65]\n",
      "  [ 2.84  1.33 -0.35  0.51  5.02]]\n",
      "\n",
      " [[-2.19 -1.07  0.23  1.82  1.4 ]\n",
      "  [-0.67  2.71  0.41 -1.38  1.55]\n",
      "  [ 0.62  2.54  2.75  2.09 -1.73]\n",
      "  [ 1.45 -2.55  1.54  0.74 -0.44]]]\n"
     ]
    }
   ],
   "source": [
    "y = x.contract(indices=['m_1', 'm_2', 'm_3']).view(np.ndarray)\n",
    "\n",
    "print(np.tensordot(a, y, axes=([3, 4, 5], [0, 1, 2])))"
   ]
  },
  {
   "cell_type": "code",
   "execution_count": null,
   "metadata": {},
   "outputs": [
    {
     "name": "stdout",
     "output_type": "stream",
     "text": [
      "Reconstruction error: 3.418895569988813e-15\n"
     ]
    }
   ],
   "source": [
    "xx = x.contract()\n",
    "bb = b.contract()\n",
    "print(\"Reconstruction error:\", np.linalg.norm(xx - bb))"
   ]
  },
  {
   "cell_type": "markdown",
   "metadata": {},
   "source": [
    "### Tensor decomposition"
   ]
  },
  {
   "cell_type": "code",
   "execution_count": null,
   "metadata": {},
   "outputs": [
    {
     "name": "stdout",
     "output_type": "stream",
     "text": [
      "Decomposition error: 1.139953776804176e-05\n"
     ]
    }
   ],
   "source": [
    "A = np.arange(10*10*10*10*10).reshape(10, 10, 10, 10, 10)\n",
    "Att = TensorTrain.from_tensor(A, [1, 2, 2, 2, 2, 1])\n",
    "\n",
    "print(\"Decomposition error:\", np.linalg.norm(A - Att.contract().squeeze()))"
   ]
  },
  {
   "cell_type": "code",
   "execution_count": null,
   "metadata": {},
   "outputs": [
    {
     "name": "stdout",
     "output_type": "stream",
     "text": [
      "Identity error: 3.7416573867739413\n",
      "TensorNetwork(\n",
      "    core_0: TensorCore(r_0 {1}, i {4}, r_1 {2}),\n",
      "    core_1: TensorCore(r_1 {2}, j {4}, r_2 {2}),\n",
      "    core_2: TensorCore(r_2 {2}, k {4}, r_3 {2}),\n",
      "    core_3: TensorCore(r_3 {2}, l {4}, r_4 {1})\n",
      ")\n"
     ]
    }
   ],
   "source": [
    "Id = np.eye(4*4).reshape(4, 4, 4, 4)\n",
    "I = TensorTrain.from_tensor(Id, [1, 2, 2, 2, 1])\n",
    "\n",
    "print(\"Identity error:\", np.linalg.norm(Id - I.contract().squeeze()))\n",
    "\n",
    "\n",
    "id = TensorNetwork([TensorCore(Id, ['i', 'j', 'k', 'l'])])\n",
    "U = TensorNetwork([TensorCore(np.random.randn(4, 4), ['i', 'j'])])\n",
    "\n",
    "I.rename(\"m_1\", \"i\")\n",
    "I.rename(\"m_2\", \"j\")\n",
    "I.rename(\"m_3\", \"k\")\n",
    "I.rename(\"m_4\", \"l\")\n",
    "\n",
    "print(I, )"
   ]
  }
 ],
 "metadata": {
  "kernelspec": {
   "display_name": "Python 3",
   "language": "python",
   "name": "python3"
  },
  "language_info": {
   "codemirror_mode": {
    "name": "ipython",
    "version": 3
   },
   "file_extension": ".py",
   "mimetype": "text/x-python",
   "name": "python",
   "nbconvert_exporter": "python",
   "pygments_lexer": "ipython3",
   "version": "3.9.7"
  }
 },
 "nbformat": 4,
 "nbformat_minor": 2
}
