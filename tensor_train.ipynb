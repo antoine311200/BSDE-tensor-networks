{
 "cells": [
  {
   "cell_type": "code",
   "execution_count": 1,
   "metadata": {},
   "outputs": [],
   "source": [
    "%load_ext autoreload\n",
    "%autoreload 2"
   ]
  },
  {
   "cell_type": "code",
   "execution_count": 2,
   "metadata": {},
   "outputs": [],
   "source": [
    "from bsde_solver.tensor.tensor_train import TensorTrain, left_unfold, right_unfold\n",
    "from bsde_solver.tensor.tensor_core import TensorCore\n",
    "\n",
    "import numpy as np\n",
    "\n",
    "np.set_printoptions(precision=2)\n",
    "np.set_printoptions(suppress=True)\n"
   ]
  },
  {
   "cell_type": "code",
   "execution_count": 3,
   "metadata": {},
   "outputs": [],
   "source": [
    "tt = TensorTrain(shape=[4, 4, 4, 4], ranks=[1, 3, 3, 3, 1])\n",
    "tt.randomize()"
   ]
  },
  {
   "cell_type": "markdown",
   "metadata": {},
   "source": [
    "Implementation of several functions and algorithms with tensor train decomposition using the following random tensor train (matrix product state):\n",
    "\n",
    "<center><img src=\"./images/test_tt.png\" style=\"width: 40%\"/></center>"
   ]
  },
  {
   "cell_type": "code",
   "execution_count": 4,
   "metadata": {},
   "outputs": [
    {
     "data": {
      "text/plain": [
       "TensorNetwork(\n",
       "    core_0: TensorCore(r_0 {1}, m_1 {4}, r_1 {3}),\n",
       "    core_1: TensorCore(r_1 {3}, m_2 {4}, r_2 {3}),\n",
       "    core_2: TensorCore(r_2 {3}, m_3 {4}, r_3 {3}),\n",
       "    core_3: TensorCore(r_3 {3}, m_4 {4}, r_4 {1})\n",
       ")"
      ]
     },
     "execution_count": 4,
     "metadata": {},
     "output_type": "execute_result"
    }
   ],
   "source": [
    "tt"
   ]
  },
  {
   "cell_type": "markdown",
   "metadata": {},
   "source": [
    "### Left and Right unfoldings\n",
    "\n",
    "Left unfolding:\n",
    "<center><img src=\"./images/left_unfold.png\" style=\"width: 40%\"/></center>\n",
    "\n",
    "Right unfolding:\n",
    "<center><img src=\"./images/right_unfold.png\" style=\"width: 40%\"/></center>"
   ]
  },
  {
   "cell_type": "code",
   "execution_count": 5,
   "metadata": {},
   "outputs": [
    {
     "name": "stdout",
     "output_type": "stream",
     "text": [
      "core_1: TensorCore(r_1 {3}, m_2+r_2 {12})\n",
      "core_1: TensorCore(r_1+m_2 {12}, r_2 {3})\n"
     ]
    }
   ],
   "source": [
    "R = right_unfold(tt[1])\n",
    "L = left_unfold(tt[1])\n",
    "\n",
    "print(R)\n",
    "print(L)"
   ]
  },
  {
   "cell_type": "markdown",
   "metadata": {},
   "source": [
    "### Left and Right orthogonalizations\n",
    "\n",
    "\n",
    "Left orthogonalization:\n",
    "<center><img src=\"./images/tt_left_ortho.png\" style=\"width: 40%\"/></center>\n",
    "\n",
    "Right orthogonalization:\n",
    "<center><img src=\"./images/tt_right_ortho.png\" style=\"width: 40%\"/></center>\n"
   ]
  },
  {
   "cell_type": "code",
   "execution_count": 6,
   "metadata": {},
   "outputs": [],
   "source": [
    "tt1 = tt.copy()\n",
    "tt2 = tt.copy()"
   ]
  },
  {
   "cell_type": "code",
   "execution_count": 7,
   "metadata": {},
   "outputs": [
    {
     "data": {
      "text/plain": [
       "(array([[[-0.3 ,  0.49, -0.15],\n",
       "         [ 0.77,  0.57,  0.86],\n",
       "         [-0.07,  0.07, -0.86],\n",
       "         [-0.32,  0.87, -0.85]]]),\n",
       " array([[[-0.3 ,  0.49, -0.15],\n",
       "         [ 0.77,  0.57,  0.86],\n",
       "         [-0.07,  0.07, -0.86],\n",
       "         [-0.32,  0.87, -0.85]]]),\n",
       " array([[[-0.3 ,  0.49, -0.15],\n",
       "         [ 0.77,  0.57,  0.86],\n",
       "         [-0.07,  0.07, -0.86],\n",
       "         [-0.32,  0.87, -0.85]]]))"
      ]
     },
     "execution_count": 7,
     "metadata": {},
     "output_type": "execute_result"
    }
   ],
   "source": [
    "tt[0].view(np.ndarray), tt1[0].view(np.ndarray), tt2[0].view(np.ndarray)"
   ]
  },
  {
   "cell_type": "code",
   "execution_count": 8,
   "metadata": {},
   "outputs": [],
   "source": [
    "tt1.orthonormalize(mode=\"left\")"
   ]
  },
  {
   "cell_type": "markdown",
   "metadata": {},
   "source": [
    "<center><img src=\"./images/tt_left_ortho_id.png\" style=\"width: 30%\"/></center>"
   ]
  },
  {
   "cell_type": "code",
   "execution_count": 9,
   "metadata": {},
   "outputs": [
    {
     "data": {
      "text/plain": [
       "array([[ 1., -0.,  0.],\n",
       "       [-0.,  1.,  0.],\n",
       "       [ 0.,  0.,  1.]])"
      ]
     },
     "execution_count": 9,
     "metadata": {},
     "output_type": "execute_result"
    }
   ],
   "source": [
    "L = left_unfold(tt1[1]).view(np.ndarray)\n",
    "L.T @ L"
   ]
  },
  {
   "cell_type": "code",
   "execution_count": 10,
   "metadata": {},
   "outputs": [],
   "source": [
    "tt2.orthonormalize(mode=\"right\")"
   ]
  },
  {
   "cell_type": "markdown",
   "metadata": {},
   "source": [
    "<center><img src=\"./images/tt_right_ortho_id.png\" style=\"width: 30%\"/></center>"
   ]
  },
  {
   "cell_type": "code",
   "execution_count": 11,
   "metadata": {},
   "outputs": [
    {
     "data": {
      "text/plain": [
       "array([[ 1.,  0., -0.],\n",
       "       [ 0.,  1.,  0.],\n",
       "       [-0.,  0.,  1.]])"
      ]
     },
     "execution_count": 11,
     "metadata": {},
     "output_type": "execute_result"
    }
   ],
   "source": [
    "R = right_unfold(tt2[3]).view(np.ndarray)\n",
    "R @ R.T"
   ]
  },
  {
   "cell_type": "markdown",
   "metadata": {},
   "source": [
    "### i-th Left & Right part of the tensor train\n",
    "\n",
    "Left part :\n",
    "<center><img src=\"./images/left_contract.png\" style=\"width: 50%\"/></center>\n",
    "Right part :\n",
    "<center><img src=\"./images/right_contract.png\" style=\"width: 50%\"/></center>\n",
    "\n",
    "Then, we can write the tensor train as:\n",
    "\n",
    "<center><img src=\"./images/left_right_repr.png\" style=\"width: 80%\"/></center>\n"
   ]
  },
  {
   "cell_type": "markdown",
   "metadata": {},
   "source": [
    "## Alternating Least Squares (ALS) algorithm"
   ]
  },
  {
   "cell_type": "code",
   "execution_count": 12,
   "metadata": {},
   "outputs": [],
   "source": [
    "from opt_einsum import contract\n",
    "\n",
    "def retraction_operator(tt, i):\n",
    "    operator = tt.extract([f'core_{j}' for j in range(tt.order) if j != i])\n",
    "    return operator"
   ]
  },
  {
   "cell_type": "code",
   "execution_count": 13,
   "metadata": {},
   "outputs": [
    {
     "name": "stdout",
     "output_type": "stream",
     "text": [
      "TensorNetwork(\n",
      "    core_0: TensorCore(r_0 {1}, m_1 {4}, r_1 {3}),\n",
      "    core_1: TensorCore(r_1 {3}, m_2 {4}, r_2 {3}),\n",
      "    core_2: TensorCore(r_2 {3}, m_3 {4}, r_3 {3}),\n",
      "    core_3: TensorCore(r_3 {3}, m_4 {4}, r_4 {1})\n",
      ")\n",
      "\n",
      "Rectraction operator (1st):\n",
      "TensorNetwork(\n",
      "    core_1: TensorCore(r_1 {3}, m_2 {4}, r_2 {3}),\n",
      "    core_2: TensorCore(r_2 {3}, m_3 {4}, r_3 {3}),\n",
      "    core_3: TensorCore(r_3 {3}, m_4 {4}, r_4 {1})\n",
      ")\n",
      "TensorNetwork(\n",
      "    core_0: TensorCore(r_1 {3}, m_2 {4}, m_3 {4}, m_4 {4}, r_4 {1})\n",
      ")\n"
     ]
    }
   ],
   "source": [
    "tt3 = tt.copy()\n",
    "tt3.orthonormalize(mode=\"right\")\n",
    "\n",
    "print(tt3)\n",
    "\n",
    "P1 = retraction_operator(tt3, 0)\n",
    "print(\"\\nRectraction operator (1st):\")\n",
    "print(P1)\n",
    "print(P1.contract())"
   ]
  },
  {
   "cell_type": "code",
   "execution_count": 14,
   "metadata": {},
   "outputs": [
    {
     "name": "stdout",
     "output_type": "stream",
     "text": [
      "\n",
      "Rectraction operator (2nd):\n",
      "TensorNetwork(\n",
      "    core_0: TensorCore(r_0 {1}, m_1 {4}, r_1 {3}),\n",
      "    core_2: TensorCore(r_2 {3}, m_3 {4}, r_3 {3}),\n",
      "    core_3: TensorCore(r_3 {3}, m_4 {4}, r_4 {1})\n",
      ")\n",
      "TensorNetwork(\n",
      "    core_0: TensorCore(r_0 {1}, m_1 {4}, r_1 {3}, r_2 {3}, m_3 {4}, m_4 {4}, r_4 {1})\n",
      ")\n"
     ]
    },
    {
     "data": {
      "text/plain": [
       "array([[ 1., -0.,  0.,  0.,  0., -0., -0.,  0.,  0.],\n",
       "       [-0.,  1.,  0.,  0.,  0.,  0., -0.,  0.,  0.],\n",
       "       [ 0.,  0.,  1., -0.,  0., -0.,  0., -0.,  0.],\n",
       "       [ 0.,  0., -0.,  1., -0.,  0., -0.,  0., -0.],\n",
       "       [ 0.,  0.,  0., -0.,  1.,  0., -0., -0.,  0.],\n",
       "       [-0.,  0., -0.,  0.,  0.,  1.,  0.,  0.,  0.],\n",
       "       [-0., -0.,  0., -0., -0.,  0.,  1., -0.,  0.],\n",
       "       [ 0.,  0., -0.,  0., -0.,  0., -0.,  1.,  0.],\n",
       "       [ 0.,  0.,  0., -0.,  0.,  0.,  0.,  0.,  1.]])"
      ]
     },
     "execution_count": 14,
     "metadata": {},
     "output_type": "execute_result"
    }
   ],
   "source": [
    "tt3.orthonormalize(mode=\"left\")\n",
    "tt3.orthonormalize(mode=\"right\", start=1)\n",
    "\n",
    "P2 = retraction_operator(tt3, 1)\n",
    "print(\"\\nRectraction operator (2nd):\")\n",
    "print(P2)\n",
    "print(P2.contract())\n",
    "\n",
    "P2_mat = P2.contract()[0].unfold(('r_1', 'r_2'), -1).view(np.ndarray)\n",
    "(P2_mat @ P2_mat.T)"
   ]
  },
  {
   "cell_type": "code",
   "execution_count": 15,
   "metadata": {},
   "outputs": [
    {
     "name": "stdout",
     "output_type": "stream",
     "text": [
      "core_0: TensorCore(r_0 {1}, m_1 {4}, m_2 {4}, r_2 {3}, r_3 {3}, m_4 {4}, r_4 {1})\n"
     ]
    },
    {
     "data": {
      "text/plain": [
       "array([[ 1., -0.,  0., -0.,  0.,  0.,  0., -0.,  0.],\n",
       "       [-0.,  1., -0.,  0., -0., -0., -0.,  0.,  0.],\n",
       "       [ 0., -0.,  1.,  0.,  0.,  0.,  0.,  0.,  0.],\n",
       "       [-0.,  0.,  0.,  1., -0.,  0., -0.,  0.,  0.],\n",
       "       [ 0., -0.,  0., -0.,  1., -0., -0., -0., -0.],\n",
       "       [ 0., -0.,  0.,  0., -0.,  1.,  0., -0., -0.],\n",
       "       [ 0., -0.,  0., -0., -0.,  0.,  1., -0.,  0.],\n",
       "       [-0.,  0.,  0.,  0., -0., -0., -0.,  1., -0.],\n",
       "       [ 0.,  0.,  0.,  0., -0., -0.,  0., -0.,  1.]])"
      ]
     },
     "execution_count": 15,
     "metadata": {},
     "output_type": "execute_result"
    }
   ],
   "source": [
    "tt3.orthonormalize(mode=\"left\")\n",
    "tt3.orthonormalize(mode=\"right\", start=2)\n",
    "\n",
    "P3 = retraction_operator(tt3, 2)\n",
    "print(P3.contract()[0])\n",
    "P3_mat = P3.contract()[0].unfold(('r_2', 'r_3'), -1).view(np.ndarray)\n",
    "(P3_mat @ P3_mat.T)"
   ]
  },
  {
   "cell_type": "code",
   "execution_count": 16,
   "metadata": {},
   "outputs": [],
   "source": [
    "ttt = tt.copy()\n",
    "ttt.orthonormalize(mode=\"left\")"
   ]
  },
  {
   "cell_type": "code",
   "execution_count": 37,
   "metadata": {},
   "outputs": [
    {
     "name": "stdout",
     "output_type": "stream",
     "text": [
      "Elapsed time: 0.05763s\n"
     ]
    }
   ],
   "source": [
    "def ALS(A, b, n_iter=10):\n",
    "    tt = TensorTrain(b.shape, b.ranks)\n",
    "    tt.randomize()\n",
    "    tt.orthonormalize(mode=\"right\", start=1)\n",
    "\n",
    "    def get_idx(j):\n",
    "        if j == 0:\n",
    "            indices = (b[j].indices[0], *tt[j].indices[1:])\n",
    "        elif j == tt.order-1:\n",
    "            indices = (*tt[j].indices[:-1], b[j].indices[2])\n",
    "        else:\n",
    "            indices = tt[j].indices\n",
    "        return indices\n",
    "\n",
    "    for i in range(n_iter):\n",
    "        # Left half sweep\n",
    "        for j in range(tt.order-1):\n",
    "            P = retraction_operator(tt, j)\n",
    "            V = P.contract(b, indices=get_idx(j))\n",
    "\n",
    "            core_curr = tt.cores[f\"core_{j}\"]\n",
    "            core_next = tt.cores[f\"core_{j+1}\"]\n",
    "\n",
    "            L = left_unfold(V).view(np.ndarray)\n",
    "            R = right_unfold(core_next).view(np.ndarray)\n",
    "\n",
    "            Q, S = np.linalg.qr(L)\n",
    "            W = S @ R\n",
    "\n",
    "            tt.cores[f\"core_{j}\"] = TensorCore.like(Q, core_curr)\n",
    "            tt.cores[f\"core_{j+1}\"] = TensorCore.like(W, core_next)\n",
    "\n",
    "        # Right half sweep\n",
    "        for j in range(tt.order-1, 0, -1):\n",
    "            P = retraction_operator(tt, j)\n",
    "            V = P.contract(b, indices=get_idx(j))\n",
    "\n",
    "            core_prev = tt.cores[f\"core_{j-1}\"]\n",
    "            core_curr = tt.cores[f\"core_{j}\"]\n",
    "\n",
    "            L = left_unfold(core_prev).view(np.ndarray)\n",
    "            R = right_unfold(V).view(np.ndarray)\n",
    "\n",
    "            Q, S = np.linalg.qr(R.T)\n",
    "            W = L @ S.T\n",
    "\n",
    "            tt.cores[f\"core_{j-1}\"] = TensorCore.like(W, core_prev)\n",
    "            tt.cores[f\"core_{j}\"] = TensorCore.like(Q.T, core_curr)\n",
    "\n",
    "    return tt\n",
    "\n",
    "\n",
    "b = TensorTrain([4, 4, 4, 4, 4], [1, 3, 3, 3, 3, 1])\n",
    "b.randomize()\n",
    "b.rename('r_*', 't_*')\n",
    "b.orthonormalize(mode=\"right\")\n",
    "\n",
    "import time\n",
    "\n",
    "start_time = time.time()\n",
    "x = ALS(None, b, n_iter=10)\n",
    "print(f\"Elapsed time: {(time.time() - start_time):.5f}s\")"
   ]
  },
  {
   "cell_type": "code",
   "execution_count": 32,
   "metadata": {},
   "outputs": [
    {
     "name": "stdout",
     "output_type": "stream",
     "text": [
      "Reconstruction error: 1.3566561618480785e-14\n"
     ]
    }
   ],
   "source": [
    "xx = x.contract()\n",
    "bb = b.contract()\n",
    "print(\"Reconstruction error:\", np.linalg.norm(xx - bb))"
   ]
  },
  {
   "cell_type": "code",
   "execution_count": null,
   "metadata": {},
   "outputs": [],
   "source": []
  }
 ],
 "metadata": {
  "kernelspec": {
   "display_name": "Python 3",
   "language": "python",
   "name": "python3"
  },
  "language_info": {
   "codemirror_mode": {
    "name": "ipython",
    "version": 3
   },
   "file_extension": ".py",
   "mimetype": "text/x-python",
   "name": "python",
   "nbconvert_exporter": "python",
   "pygments_lexer": "ipython3",
   "version": "3.9.7"
  }
 },
 "nbformat": 4,
 "nbformat_minor": 2
}
