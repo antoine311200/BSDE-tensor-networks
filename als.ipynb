{
 "cells": [
  {
   "cell_type": "code",
   "execution_count": 1,
   "metadata": {},
   "outputs": [],
   "source": [
    "import numpy as np"
   ]
  },
  {
   "cell_type": "code",
   "execution_count": 7,
   "metadata": {},
   "outputs": [],
   "source": [
    "A = np.random.randint(0, 10, (4, 3))\n",
    "B = np.random.randint(0, 10, (5, 3))\n",
    "C = np.random.randint(0, 10, (6, 3))"
   ]
  },
  {
   "cell_type": "code",
   "execution_count": 8,
   "metadata": {},
   "outputs": [
    {
     "name": "stdout",
     "output_type": "stream",
     "text": [
      "[[4 6 2]\n",
      " [1 0 2]\n",
      " [2 5 5]\n",
      " [6 1 6]]\n",
      "[[2 5 7]\n",
      " [7 2 1]\n",
      " [2 8 7]\n",
      " [0 6 3]\n",
      " [3 3 4]]\n",
      "[[2 8 3]\n",
      " [5 7 5]\n",
      " [5 0 6]\n",
      " [5 9 4]\n",
      " [8 3 2]\n",
      " [5 6 8]]\n"
     ]
    }
   ],
   "source": [
    "print(A)\n",
    "print(B)\n",
    "print(C)"
   ]
  },
  {
   "cell_type": "code",
   "execution_count": 9,
   "metadata": {},
   "outputs": [],
   "source": [
    "D = np.einsum('il, jl, kl -> ijkl', A, B, C)"
   ]
  },
  {
   "cell_type": "code",
   "execution_count": 11,
   "metadata": {},
   "outputs": [
    {
     "data": {
      "text/plain": [
       "(4, 5, 6, 3)"
      ]
     },
     "execution_count": 11,
     "metadata": {},
     "output_type": "execute_result"
    }
   ],
   "source": [
    "D.shape"
   ]
  },
  {
   "cell_type": "code",
   "execution_count": 16,
   "metadata": {},
   "outputs": [
    {
     "name": "stdout",
     "output_type": "stream",
     "text": [
      "(10, 10, 10, 36)\n",
      "(10, 10, 10, 10, 10, 10)\n",
      "(1000, 1000)\n",
      "(1001, 1000)\n",
      "(1001, 1001)\n"
     ]
    }
   ],
   "source": [
    "n = 10\n",
    "m = 4\n",
    "rank_l = 3\n",
    "rank_r = 3\n",
    "op_pre = np.random.randint(0, 10, (n, n, n, rank_l * m * rank_r))\n",
    "print(op_pre.shape)\n",
    "op = np.zeros(op_pre.shape[:-1]+op_pre.shape[:-1])\n",
    "op_dim = op.shape\n",
    "print(op.shape)\n",
    "op = op.reshape((op_dim[0]*op_dim[1]*op_dim[2], op_dim[3]*op_dim[4]*op_dim[5]))\n",
    "print(op.shape)\n",
    "op = np.vstack([op, np.zeros(op.shape[0])[None,:]])\n",
    "print(op.shape)\n",
    "op = np.hstack([op, np.zeros(op.shape[0])[:,None]])\n",
    "print(op.shape)"
   ]
  },
  {
   "cell_type": "code",
   "execution_count": 18,
   "metadata": {},
   "outputs": [
    {
     "name": "stdout",
     "output_type": "stream",
     "text": [
      "(1000, 36)\n",
      "(1000, 36)\n",
      "(1000, 1000)\n"
     ]
    }
   ],
   "source": [
    "print(op_pre.shape)\n",
    "op_pre = op_pre.reshape((op_dim[0]*op_dim[1]*op_dim[2], op_pre.shape[-1]))\n",
    "print(op_pre.shape)\n",
    "op_final = np.tensordot(op_pre, op_pre, axes=((1),(1)))\n",
    "print(op_final.shape)"
   ]
  },
  {
   "cell_type": "code",
   "execution_count": null,
   "metadata": {},
   "outputs": [],
   "source": []
  }
 ],
 "metadata": {
  "kernelspec": {
   "display_name": "Python 3",
   "language": "python",
   "name": "python3"
  },
  "language_info": {
   "codemirror_mode": {
    "name": "ipython",
    "version": 3
   },
   "file_extension": ".py",
   "mimetype": "text/x-python",
   "name": "python",
   "nbconvert_exporter": "python",
   "pygments_lexer": "ipython3",
   "version": "3.9.7"
  }
 },
 "nbformat": 4,
 "nbformat_minor": 2
}
