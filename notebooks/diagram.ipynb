{
 "cells": [
  {
   "cell_type": "code",
   "execution_count": 71,
   "metadata": {},
   "outputs": [],
   "source": [
    "from matplotlib import pyplot as plt\n",
    "import matplotlib.path as mpath\n",
    "import matplotlib.lines as mlines\n",
    "import matplotlib.patches as mpatches\n",
    "from matplotlib.collections import PatchCollection\n",
    "\n",
    "import numpy as np"
   ]
  },
  {
   "cell_type": "code",
   "execution_count": null,
   "metadata": {},
   "outputs": [],
   "source": [
    "def lx(string):\n",
    "    pass"
   ]
  },
  {
   "cell_type": "code",
   "execution_count": 204,
   "metadata": {},
   "outputs": [
    {
     "data": {
      "image/png": "[encoded data removed]",
      "text/plain": [
       "<Figure size 1000x1000 with 1 Axes>"
      ]
     },
     "metadata": {},
     "output_type": "display_data"
    }
   ],
   "source": [
    "plt.rcParams.update(plt.rcParamsDefault)\n",
    "plt.rcParams['mathtext.fontset'] = 'dejavuserif'  # or other, 'dejavuserif'\n",
    "plt.rcParams['font.family'] = 'serif'  # or 'DejaVu Serif'\n",
    "plt.rcParams['font.serif'] = ['Times New Roman']\n",
    "\n",
    "# Create a blank canvas without axes and draw a circle\n",
    "fig = plt.figure(figsize=(10, 10))\n",
    "ax = fig.add_subplot(111)\n",
    "ax.set_aspect(1)\n",
    "\n",
    "u = 0.1\n",
    "patches = []\n",
    "\n",
    "# Plot grid lines of speration size u\n",
    "size = 40\n",
    "for i in range(size):\n",
    "    hline = mlines.Line2D([0, size*u], [i*u, i*u], color='teal', linewidth=0.2)\n",
    "    ax.add_line(hline)\n",
    "\n",
    "    vline = mlines.Line2D([i*u, i*u], [0, size*u], color='teal', linewidth=0.2)\n",
    "    ax.add_line(vline)\n",
    "\n",
    "# patches.append(mpatches.Circle((0.1, 0.1), u, facecolor='none', edgecolor='teal', alpha=1.0, linewidth=3))\n",
    "fancybox = dict(boxstyle=mpatches.BoxStyle(\"Round\", pad=0.0, rounding_size=0.015), facecolor='none', edgecolor='teal', alpha=1.0, linewidth=3)\n",
    "font = dict(ha='center', va='center', color='teal', alpha=1.0, fontweight='bold', fontname='serif')\n",
    "\n",
    "y = 2*u\n",
    "\n",
    "hline = mlines.Line2D([u, 2*u], [y+u/2, y+u/2], color='teal', linewidth=3, dashes=[1, 1])\n",
    "ax.text(3*u/2, y+u/2+u/4, f'$r_0$', fontsize=15, **font)\n",
    "ax.add_line(hline)\n",
    "\n",
    "for i in range(1,5):\n",
    "    x = i*2*u\n",
    "    patches.append(mpatches.FancyBboxPatch((x, y), u, u, **fancybox))\n",
    "    ax.text(x+u/2, y+u/2, f'$A_{i}$', fontsize=20, **font)\n",
    "\n",
    "    if i < 4:\n",
    "        hline = mlines.Line2D([x+u, x+2*u], [y+u/2, y+u/2], color='teal', linewidth=3)\n",
    "        ax.text(x+3*u/2, y+u/2+u/4, f'$r_{i}$', fontsize=15, **font)\n",
    "        ax.add_line(hline)\n",
    "\n",
    "    vline = mlines.Line2D([x+u/2, x+u/2], [y, y-2*u/3], color='teal', linewidth=3)\n",
    "    ax.text(x+u/2, y-u, f'$m_{i}$', fontsize=15, **font)\n",
    "    ax.add_line(vline)\n",
    "\n",
    "hline = mlines.Line2D([8*u+u, 8*u+2*u], [y+u/2, y+u/2], color='teal', linewidth=3, dashes=[1, 1])\n",
    "ax.text(8*u+3*u/2, y+u/2+u/4, f'$r_4$', fontsize=15, **font)\n",
    "ax.add_line(hline)\n",
    "\n",
    "\n",
    "collection = PatchCollection(patches, match_original=True)\n",
    "ax.add_collection(collection)\n",
    "\n",
    "ax.set_xticks([])\n",
    "ax.set_yticks([])\n",
    "ax.set_axis_off()\n",
    "ax.patch.set_alpha(0.0)\n",
    "plt.show()\n"
   ]
  },
  {
   "cell_type": "code",
   "execution_count": null,
   "metadata": {},
   "outputs": [],
   "source": []
  }
 ],
 "metadata": {
  "kernelspec": {
   "display_name": "Python 3",
   "language": "python",
   "name": "python3"
  },
  "language_info": {
   "codemirror_mode": {
    "name": "ipython",
    "version": 3
   },
   "file_extension": ".py",
   "mimetype": "text/x-python",
   "name": "python",
   "nbconvert_exporter": "python",
   "pygments_lexer": "ipython3",
   "version": "3.9.7"
  }
 },
 "nbformat": 4,
 "nbformat_minor": 2
}
