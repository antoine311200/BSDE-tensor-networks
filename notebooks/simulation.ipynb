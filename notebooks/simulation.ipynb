{
 "cells": [
  {
   "cell_type": "code",
   "execution_count": null,
   "metadata": {},
   "outputs": [],
   "source": [
    "import numpy as np\n",
    "import matplotlib.pyplot as plt\n",
    "from scipy import stats\n",
    "from tqdm.notebook import tqdm"
   ]
  },
  {
   "cell_type": "markdown",
   "metadata": {},
   "source": [
    "## One dimensional case"
   ]
  },
  {
   "cell_type": "code",
   "execution_count": null,
   "metadata": {},
   "outputs": [],
   "source": [
    "def bachelier_formula(S0, sigma, T, K):\n",
    "    dn = (S0 - K) / (sigma * np.sqrt(T))\n",
    "    return (S0 - K) * stats.norm.cdf(dn) + sigma * np.sqrt(T) * stats.norm.pdf(dn)"
   ]
  },
  {
   "cell_type": "code",
   "execution_count": null,
   "metadata": {},
   "outputs": [],
   "source": [
    "S0 = 3\n",
    "T_values = np.linspace(1, 10, 100)\n",
    "Ks = np.linspace(-5, 5, 100)\n",
    "sigma = 1"
   ]
  },
  {
   "cell_type": "code",
   "execution_count": null,
   "metadata": {},
   "outputs": [],
   "source": [
    "plt.figure(figsize=(10, 5))\n",
    "colomap = plt.cm.viridis\n",
    "\n",
    "for k, T in enumerate(T_values):\n",
    "    prices = bachelier_formula(S0, sigma, T, Ks)\n",
    "    if k % 10 == 0:\n",
    "        plt.plot(Ks, prices, label='T = %.2f' % T, color=colomap(k / len(T_values)))\n",
    "    else:\n",
    "        plt.plot(Ks, prices, color=colomap(k / len(T_values)))\n",
    "\n",
    "plt.xlabel('K')\n",
    "plt.ylabel('Price')\n",
    "plt.legend()\n",
    "plt.title('Bachelier Formula S0 = %.2f, sigma = %.2f' % (S0, sigma))\n",
    "plt.show()"
   ]
  },
  {
   "cell_type": "code",
   "execution_count": null,
   "metadata": {},
   "outputs": [],
   "source": [
    "def generate_process_1d(S0, sigma, T, n_precision, n_paths):\n",
    "    dt = T / n_precision\n",
    "    dW = np.random.normal(0, np.sqrt(dt), (n_paths, n_precision))\n",
    "    W = np.cumsum(dW, axis=1)\n",
    "    t = np.linspace(0, T, n_precision)\n",
    "    S = S0 + sigma * W\n",
    "    return t, S"
   ]
  },
  {
   "cell_type": "code",
   "execution_count": null,
   "metadata": {},
   "outputs": [],
   "source": [
    "t, S = generate_process_1d(S0, sigma, 1, 1000, 10)\n",
    "print(t.shape, S.shape)\n",
    "plt.plot(t, S.T)\n",
    "plt.xlabel('t')\n",
    "plt.ylabel('S')\n",
    "plt.title('Bachelier Process S0 = %.2f, sigma = %.2f' % (S0, sigma))\n",
    "plt.show()"
   ]
  },
  {
   "cell_type": "code",
   "execution_count": null,
   "metadata": {},
   "outputs": [],
   "source": [
    "def monte_carlo_bachelier(S0, sigma, T, Ks, n_precision, n_paths):\n",
    "    t, S = generate_process_1d(S0, sigma, T, n_precision, n_paths)\n",
    "    payoff = np.maximum(S[:, -1, np.newaxis] - Ks[np.newaxis, :], 0)\n",
    "    return np.mean(payoff, axis=0)"
   ]
  },
  {
   "cell_type": "code",
   "execution_count": null,
   "metadata": {},
   "outputs": [],
   "source": [
    "plt.figure(figsize=(10, 5))\n",
    "colomap = plt.cm.viridis\n",
    "\n",
    "for k, T in enumerate(tqdm(T_values)):\n",
    "    prices = monte_carlo_bachelier(S0, sigma, T, Ks, 1000, 10000)\n",
    "    if k % 10 == 0:\n",
    "        plt.plot(Ks, prices, label='T = %.2f' % T, color=colomap(k / len(T_values)))\n",
    "    else:\n",
    "        plt.plot(Ks, prices, color=colomap(k / len(T_values)))\n",
    "\n",
    "plt.xlabel('K')\n",
    "plt.ylabel('Price')\n",
    "plt.legend()\n",
    "plt.title('Bachelier Formula using monte carlo estimator S0 = %.2f, sigma = %.2f' % (S0, sigma))\n",
    "plt.show()"
   ]
  },
  {
   "cell_type": "markdown",
   "metadata": {},
   "source": [
    "## Multidimensional case"
   ]
  },
  {
   "cell_type": "code",
   "execution_count": null,
   "metadata": {},
   "outputs": [],
   "source": [
    "def compute_std(sigmas, correlation_matrix):\n",
    "    sum_1 = np.sum(sigmas ** 2)\n",
    "    sum_2 = 0\n",
    "    for i in range(len(sigmas)):\n",
    "        for j in range(len(sigmas)):\n",
    "            sum_2 += sigmas[i] * sigmas[j] * correlation_matrix[i, j]\n",
    "    return np.sqrt(sum_1 + sum_2) / len(sigmas)"
   ]
  },
  {
   "cell_type": "code",
   "execution_count": null,
   "metadata": {},
   "outputs": [],
   "source": [
    "def basket_formula(S0s, sigmas, correlation_matrix, T, K):\n",
    "    sigma = compute_std(sigmas, correlation_matrix)\n",
    "    S0 = np.mean(S0s)\n",
    "    return bachelier_formula(S0, sigma, T, K)"
   ]
  },
  {
   "cell_type": "code",
   "execution_count": null,
   "metadata": {},
   "outputs": [],
   "source": [
    "d = 3\n",
    "S0s = np.random.uniform(-5, 5, d)\n",
    "T_values = np.linspace(1, 10, 100)\n",
    "Ks = np.linspace(-5, 5, 100)\n",
    "\n",
    "sigmas = np.random.normal(1, 0.5, d)\n",
    "\n",
    "# eigenvalues = np.random.uniform(0, 1, d)\n",
    "# eigenvalues = eigenvalues / np.sum(eigenvalues) * d\n",
    "# correlation_matrix = stats.random_correlation.rvs(eigenvalues)\n",
    "\n",
    "correlation_matrix = np.array([[1, 0.9, 0], [0.9, 1, 0], [0, 0, 1]])\n",
    "\n",
    "cholesky = np.linalg.cholesky(correlation_matrix)\n",
    "plt.imshow((correlation_matrix + 1) / 2, cmap='hot', interpolation='nearest')\n",
    "plt.colorbar()\n",
    "plt.show()           "
   ]
  },
  {
   "cell_type": "code",
   "execution_count": null,
   "metadata": {},
   "outputs": [],
   "source": [
    "plt.figure(figsize=(10, 5))\n",
    "colomap = plt.cm.viridis\n",
    "\n",
    "for k, T in enumerate(T_values):\n",
    "    prices = basket_formula(S0s, sigmas, correlation_matrix, T, Ks)\n",
    "    if k % 10 == 0:\n",
    "        plt.plot(Ks, prices, label='T = %.2f' % T, color=colomap(k / len(T_values)))\n",
    "    else:\n",
    "        plt.plot(Ks, prices, color=colomap(k / len(T_values)))\n",
    "\n",
    "plt.xlabel('K')\n",
    "plt.ylabel('Price')\n",
    "plt.legend()\n",
    "plt.title('Basket Formula for %d assets' % d)\n",
    "plt.show()"
   ]
  },
  {
   "cell_type": "code",
   "execution_count": null,
   "metadata": {},
   "outputs": [],
   "source": [
    "def generate_process_nd(S0s, sigmas, cholesky_decomp, T, n_precision, n_paths):\n",
    "    dt = T / n_precision\n",
    "    dW = np.random.normal(0, np.sqrt(dt), (n_paths, n_precision, len(S0s)))\n",
    "    dW = np.einsum('ijk,kl->ijl', dW, cholesky_decomp)\n",
    "    W = np.cumsum(dW, axis=1)\n",
    "    t = np.linspace(0, T, n_precision)\n",
    "    S = S0s + sigmas[np.newaxis, np.newaxis, :] * W\n",
    "    return t, S"
   ]
  },
  {
   "cell_type": "code",
   "execution_count": null,
   "metadata": {},
   "outputs": [],
   "source": [
    "t, S = generate_process_nd(S0s, sigmas, correlation_matrix, 1, 1000, 1)\n",
    "print(t.shape, S.shape)\n",
    "for i in range(d):\n",
    "    plt.plot(t, S[:, :, i].T, label='S%d' % (i+1))\n",
    "plt.xlabel('t')\n",
    "plt.ylabel('S')\n",
    "plt.title('Bachelier Process for %d assets' % d)\n",
    "plt.legend()\n",
    "plt.show()"
   ]
  },
  {
   "cell_type": "code",
   "execution_count": null,
   "metadata": {},
   "outputs": [],
   "source": [
    "def monte_carlo_basket(S0s, sigmas, correlation_matrix, T, Ks, n_precision, n_paths):\n",
    "    t, S = generate_process_nd(S0s, sigmas, correlation_matrix, T, n_precision, n_paths)\n",
    "    payoff = np.maximum(np.mean(S[:, -1, :], axis=1)[:, np.newaxis] - Ks[np.newaxis, :], 0)\n",
    "    return np.mean(payoff, axis=0)"
   ]
  },
  {
   "cell_type": "code",
   "execution_count": null,
   "metadata": {},
   "outputs": [],
   "source": [
    "plt.figure(figsize=(10, 5))\n",
    "colomap = plt.cm.viridis\n",
    "\n",
    "for k, T in enumerate(tqdm(T_values)):\n",
    "    prices = monte_carlo_basket(S0s, sigmas, correlation_matrix, T, Ks, 1000, 10000)\n",
    "    if k % 10 == 0:\n",
    "        plt.plot(Ks, prices, label='T = %.2f' % T, color=colomap(k / len(T_values)))\n",
    "    else:\n",
    "        plt.plot(Ks, prices, color=colomap(k / len(T_values)))\n",
    "\n",
    "plt.xlabel('K')\n",
    "plt.ylabel('Price')\n",
    "plt.legend()\n",
    "plt.title('Basket Formula using monte carlo estimator for %d assets' % d)\n",
    "plt.show()"
   ]
  },
  {
   "cell_type": "code",
   "execution_count": null,
   "metadata": {},
   "outputs": [],
   "source": [
    "# check diff between monte carlo and formula\n",
    "K_test = np.array([0])\n",
    "diff = []\n",
    "\n",
    "for num_simulations in tqdm(range(100, 10000, 100)):\n",
    "    prices_formula = basket_formula(S0s.astype(np.float32), sigmas.astype(np.float32), correlation_matrix.astype(np.float32), 1, K_test)\n",
    "    prices_monte_carlo = monte_carlo_basket(S0s.astype(np.float32), sigmas.astype(np.float32), correlation_matrix.astype(np.float32), 1, K_test, 1000, num_simulations)\n",
    "    diff.append(np.abs(prices_formula - prices_monte_carlo))\n",
    "\n",
    "plt.figure(figsize=(10, 5))\n",
    "plt.plot(range(100, 10000, 100), diff)\n",
    "plt.xlabel('Number of simulations')\n",
    "plt.ylabel('Absolute difference')\n",
    "plt.title('Difference between Monte Carlo and Formula')\n",
    "plt.show()\n",
    "\n"
   ]
  },
  {
   "cell_type": "code",
   "execution_count": null,
   "metadata": {},
   "outputs": [],
   "source": []
  }
 ],
 "metadata": {
  "kernelspec": {
   "display_name": "Python 3",
   "language": "python",
   "name": "python3"
  },
  "language_info": {
   "codemirror_mode": {
    "name": "ipython",
    "version": 3
   },
   "file_extension": ".py",
   "mimetype": "text/x-python",
   "name": "python",
   "nbconvert_exporter": "python",
   "pygments_lexer": "ipython3",
   "version": "3.10.5"
  }
 },
 "nbformat": 4,
 "nbformat_minor": 2
}
