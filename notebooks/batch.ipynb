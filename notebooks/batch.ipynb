{
 "cells": [
  {
   "cell_type": "code",
   "execution_count": 1,
   "metadata": {},
   "outputs": [],
   "source": [
    "import numpy as np"
   ]
  },
  {
   "cell_type": "code",
   "execution_count": 4,
   "metadata": {},
   "outputs": [],
   "source": [
    "def poly(x, degree=2):\n",
    "    return np.array([x**(i+1) for i in range(degree)]).T"
   ]
  },
  {
   "cell_type": "code",
   "execution_count": 13,
   "metadata": {},
   "outputs": [
    {
     "name": "stdout",
     "output_type": "stream",
     "text": [
      "(2, 2) (2, 2) (2, 2)\n"
     ]
    },
    {
     "data": {
      "text/plain": [
       "(array([0.1, 0.2]),\n",
       " array([[0.1 , 0.01],\n",
       "        [0.2 , 0.04]]),\n",
       " array([0.2, 0.3]),\n",
       " array([[0.2 , 0.04],\n",
       "        [0.3 , 0.09]]),\n",
       " array([0.1, 0.3]),\n",
       " array([[0.1 , 0.01],\n",
       "        [0.3 , 0.09]]))"
      ]
     },
     "execution_count": 13,
     "metadata": {},
     "output_type": "execute_result"
    }
   ],
   "source": [
    "x1 = np.array([0.1, 0.2])\n",
    "x2 = np.array([0.2, 0.3])\n",
    "x3 = np.array([0.1, 0.3])\n",
    "\n",
    "d = 2\n",
    "px1 = poly(x1, degree=d)\n",
    "px2 = poly(x2, degree=d)\n",
    "px3 = poly(x3, degree=d)\n",
    "\n",
    "print(px1.shape, px2.shape, px3.shape)\n",
    "x1, px1, x2, px2, x3, px3"
   ]
  },
  {
   "cell_type": "code",
   "execution_count": 9,
   "metadata": {},
   "outputs": [
    {
     "name": "stdout",
     "output_type": "stream",
     "text": [
      "(3, 2) (3, 2)\n"
     ]
    },
    {
     "data": {
      "text/plain": [
       "(array([[0.1 , 0.01],\n",
       "        [0.2 , 0.04],\n",
       "        [0.1 , 0.01]]),\n",
       " array([[0.2 , 0.04],\n",
       "        [0.3 , 0.09],\n",
       "        [0.3 , 0.09]]))"
      ]
     },
     "execution_count": 9,
     "metadata": {},
     "output_type": "execute_result"
    }
   ],
   "source": [
    "batch1 = np.array([px1[0], px2[0], px3[0]])\n",
    "batch2 = np.array([px1[1], px2[1], px3[1]])\n",
    "\n",
    "print(batch1.shape, batch2.shape) # batch, degree\n",
    "batch1, batch2"
   ]
  },
  {
   "cell_type": "code",
   "execution_count": 71,
   "metadata": {},
   "outputs": [
    {
     "data": {
      "text/plain": [
       "(array([[1, 0],\n",
       "        [0, 1]]),\n",
       " array([[ 1,  0],\n",
       "        [ 0, -1]]),\n",
       " array([[0, 1],\n",
       "        [1, 0]]))"
      ]
     },
     "execution_count": 71,
     "metadata": {},
     "output_type": "execute_result"
    }
   ],
   "source": [
    "A = np.array([1, 0, 0, 1]).reshape(-1, 2)\n",
    "B = np.array([1, 0, 0, -1]).reshape(-1, 2)\n",
    "C = np.array([0, 1, 1, 0]).reshape(-1, 2)\n",
    "\n",
    "A, B, C"
   ]
  },
  {
   "cell_type": "code",
   "execution_count": 74,
   "metadata": {},
   "outputs": [
    {
     "name": "stdout",
     "output_type": "stream",
     "text": [
      "0.020400000000000005\n",
      "0.019600000000000003\n",
      "0.006000000000000002\n"
     ]
    },
    {
     "data": {
      "text/plain": [
       "array([[0.1 , 0.01],\n",
       "       [0.2 , 0.04]])"
      ]
     },
     "execution_count": 74,
     "metadata": {},
     "output_type": "execute_result"
    }
   ],
   "source": [
    "print(px1[0][0]*px1[1][0] + px1[0][1]*px1[1][1])\n",
    "print(px1[0][0]*px1[1][0] - px1[0][1]*px1[1][1])\n",
    "print(px1[0][0]*px1[1][1] + px1[0][1]*px1[1][0])\n",
    "px1\n"
   ]
  },
  {
   "cell_type": "code",
   "execution_count": 80,
   "metadata": {},
   "outputs": [
    {
     "name": "stdout",
     "output_type": "stream",
     "text": [
      "0.020400000000000005\n",
      "0.0564\n",
      "0.012\n"
     ]
    }
   ],
   "source": [
    "print(batch1[0].T @ A @ batch2[0])\n",
    "print(batch1[1].T @ B @ batch2[1])\n",
    "print(batch1[2].T @ C @ batch2[2])"
   ]
  },
  {
   "cell_type": "code",
   "execution_count": 81,
   "metadata": {},
   "outputs": [
    {
     "name": "stdout",
     "output_type": "stream",
     "text": [
      "0.020400000000000005\n",
      "0.0564\n",
      "0.012\n"
     ]
    }
   ],
   "source": [
    "print(np.einsum('i,ij,j->', batch1[0], A, batch2[0]))\n",
    "print(np.einsum('i,ij,j->', batch1[1], B, batch2[1]))\n",
    "print(np.einsum('i,ij,j->', batch1[2], C, batch2[2]))"
   ]
  },
  {
   "cell_type": "code",
   "execution_count": 82,
   "metadata": {},
   "outputs": [
    {
     "data": {
      "text/plain": [
       "((3, 2, 2), (3, 2), (3, 2))"
      ]
     },
     "execution_count": 82,
     "metadata": {},
     "output_type": "execute_result"
    }
   ],
   "source": [
    "Op = np.array([A, B, C])\n",
    "Op.shape, batch1.shape, batch2.shape"
   ]
  },
  {
   "cell_type": "code",
   "execution_count": 83,
   "metadata": {},
   "outputs": [
    {
     "data": {
      "text/plain": [
       "array([0.0204, 0.0564, 0.012 ])"
      ]
     },
     "execution_count": 83,
     "metadata": {},
     "output_type": "execute_result"
    }
   ],
   "source": [
    "np.einsum('ijk,ij,ik->i', Op, batch1, batch2)"
   ]
  },
  {
   "cell_type": "code",
   "execution_count": null,
   "metadata": {},
   "outputs": [],
   "source": []
  }
 ],
 "metadata": {
  "kernelspec": {
   "display_name": "Python 3",
   "language": "python",
   "name": "python3"
  },
  "language_info": {
   "codemirror_mode": {
    "name": "ipython",
    "version": 3
   },
   "file_extension": ".py",
   "mimetype": "text/x-python",
   "name": "python",
   "nbconvert_exporter": "python",
   "pygments_lexer": "ipython3",
   "version": "3.9.7"
  }
 },
 "nbformat": 4,
 "nbformat_minor": 2
}
